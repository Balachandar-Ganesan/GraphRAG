{
  "nbformat": 4,
  "nbformat_minor": 0,
  "metadata": {
    "colab": {
      "provenance": []
    },
    "kernelspec": {
      "name": "python3",
      "display_name": "Python 3"
    },
    "language_info": {
      "name": "python"
    },
    "widgets": 
{}
  "cells": [
    {
      "cell_type": "code",
      "execution_count": null,
      "metadata": {
        "colab": {
          "base_uri": "https://localhost:8080/"
        },
        "id": "hPfPSAzOxVjD",
        "outputId": "2b7bb2ea-d237-4a21-f9af-af8d9276a2d3"
      },
      "outputs": [
        {
          "output_type": "stream",
          "name": "stdout",
          "text": [
            "Requirement already satisfied: transformers in /usr/local/lib/python3.12/dist-packages (4.56.1)\n",
            "Requirement already satisfied: torch in /usr/local/lib/python3.12/dist-packages (2.8.0+cu126)\n",
            "Requirement already satisfied: accelerate in /usr/local/lib/python3.12/dist-packages (1.10.1)\n",
            "Requirement already satisfied: filelock in /usr/local/lib/python3.12/dist-packages (from transformers) (3.19.1)\n",
            "Requirement already satisfied: huggingface-hub<1.0,>=0.34.0 in /usr/local/lib/python3.12/dist-packages (from transformers) (0.34.4)\n",
            "Requirement already satisfied: numpy>=1.17 in /usr/local/lib/python3.12/dist-packages (from transformers) (2.0.2)\n",
            "Requirement already satisfied: packaging>=20.0 in /usr/local/lib/python3.12/dist-packages (from transformers) (25.0)\n",
            "Requirement already satisfied: pyyaml>=5.1 in /usr/local/lib/python3.12/dist-packages (from transformers) (6.0.2)\n",
            "Requirement already satisfied: regex!=2019.12.17 in /usr/local/lib/python3.12/dist-packages (from transformers) (2024.11.6)\n",
            "Requirement already satisfied: requests in /usr/local/lib/python3.12/dist-packages (from transformers) (2.32.4)\n",
            "Requirement already satisfied: tokenizers<=0.23.0,>=0.22.0 in /usr/local/lib/python3.12/dist-packages (from transformers) (0.22.0)\n",
            "Requirement already satisfied: safetensors>=0.4.3 in /usr/local/lib/python3.12/dist-packages (from transformers) (0.6.2)\n",
            "Requirement already satisfied: tqdm>=4.27 in /usr/local/lib/python3.12/dist-packages (from transformers) (4.67.1)\n",
            "Requirement already satisfied: typing-extensions>=4.10.0 in /usr/local/lib/python3.12/dist-packages (from torch) (4.15.0)\n",
            "Requirement already satisfied: setuptools in /usr/local/lib/python3.12/dist-packages (from torch) (75.2.0)\n",
            "Requirement already satisfied: sympy>=1.13.3 in /usr/local/lib/python3.12/dist-packages (from torch) (1.13.3)\n",
            "Requirement already satisfied: networkx in /usr/local/lib/python3.12/dist-packages (from torch) (3.5)\n",
            "Requirement already satisfied: jinja2 in /usr/local/lib/python3.12/dist-packages (from torch) (3.1.6)\n",
            "Requirement already satisfied: fsspec in /usr/local/lib/python3.12/dist-packages (from torch) (2025.3.0)\n",
            "Requirement already satisfied: nvidia-cuda-nvrtc-cu12==12.6.77 in /usr/local/lib/python3.12/dist-packages (from torch) (12.6.77)\n",
            "Requirement already satisfied: nvidia-cuda-runtime-cu12==12.6.77 in /usr/local/lib/python3.12/dist-packages (from torch) (12.6.77)\n",
            "Requirement already satisfied: nvidia-cuda-cupti-cu12==12.6.80 in /usr/local/lib/python3.12/dist-packages (from torch) (12.6.80)\n",
            "Requirement already satisfied: nvidia-cudnn-cu12==9.10.2.21 in /usr/local/lib/python3.12/dist-packages (from torch) (9.10.2.21)\n",
            "Requirement already satisfied: nvidia-cublas-cu12==12.6.4.1 in /usr/local/lib/python3.12/dist-packages (from torch) (12.6.4.1)\n",
            "Requirement already satisfied: nvidia-cufft-cu12==11.3.0.4 in /usr/local/lib/python3.12/dist-packages (from torch) (11.3.0.4)\n",
            "Requirement already satisfied: nvidia-curand-cu12==10.3.7.77 in /usr/local/lib/python3.12/dist-packages (from torch) (10.3.7.77)\n",
            "Requirement already satisfied: nvidia-cusolver-cu12==11.7.1.2 in /usr/local/lib/python3.12/dist-packages (from torch) (11.7.1.2)\n",
            "Requirement already satisfied: nvidia-cusparse-cu12==12.5.4.2 in /usr/local/lib/python3.12/dist-packages (from torch) (12.5.4.2)\n",
            "Requirement already satisfied: nvidia-cusparselt-cu12==0.7.1 in /usr/local/lib/python3.12/dist-packages (from torch) (0.7.1)\n",
            "Requirement already satisfied: nvidia-nccl-cu12==2.27.3 in /usr/local/lib/python3.12/dist-packages (from torch) (2.27.3)\n",
            "Requirement already satisfied: nvidia-nvtx-cu12==12.6.77 in /usr/local/lib/python3.12/dist-packages (from torch) (12.6.77)\n",
            "Requirement already satisfied: nvidia-nvjitlink-cu12==12.6.85 in /usr/local/lib/python3.12/dist-packages (from torch) (12.6.85)\n",
            "Requirement already satisfied: nvidia-cufile-cu12==1.11.1.6 in /usr/local/lib/python3.12/dist-packages (from torch) (1.11.1.6)\n",
            "Requirement already satisfied: triton==3.4.0 in /usr/local/lib/python3.12/dist-packages (from torch) (3.4.0)\n",
            "Requirement already satisfied: psutil in /usr/local/lib/python3.12/dist-packages (from accelerate) (5.9.5)\n",
            "Requirement already satisfied: hf-xet<2.0.0,>=1.1.3 in /usr/local/lib/python3.12/dist-packages (from huggingface-hub<1.0,>=0.34.0->transformers) (1.1.9)\n",
            "Requirement already satisfied: mpmath<1.4,>=1.1.0 in /usr/local/lib/python3.12/dist-packages (from sympy>=1.13.3->torch) (1.3.0)\n",
            "Requirement already satisfied: MarkupSafe>=2.0 in /usr/local/lib/python3.12/dist-packages (from jinja2->torch) (3.0.2)\n",
            "Requirement already satisfied: charset_normalizer<4,>=2 in /usr/local/lib/python3.12/dist-packages (from requests->transformers) (3.4.3)\n",
            "Requirement already satisfied: idna<4,>=2.5 in /usr/local/lib/python3.12/dist-packages (from requests->transformers) (3.10)\n",
            "Requirement already satisfied: urllib3<3,>=1.21.1 in /usr/local/lib/python3.12/dist-packages (from requests->transformers) (2.5.0)\n",
            "Requirement already satisfied: certifi>=2017.4.17 in /usr/local/lib/python3.12/dist-packages (from requests->transformers) (2025.8.3)\n"
          ]
        }
      ],
      "source": [
        "!pip install transformers torch accelerate"
      ]
    },
    {
      "cell_type": "code",
      "source": [
        "from huggingface_hub import login\n",
        "import os\n",
        "\n",
        "try:\n",
        "        from google.colab import userdata\n",
        "        hf_token = userdata.get(\"HF_TOKEN\")\n",
        "        login(token=hf_token)\n",
        "        print(\"Successfully logged in to Hugging Face Hub.\")\n",
        "except Exception as e:\n",
        "        print(f\"Error logging in to Hugging Face Hub: {e}\")\n",
        "        print(\"Ensure 'HF_TOKEN' is set as a secret in Colab and 'Notebook access' is enabled.\")"
      ],
      "metadata": {
        "colab": {
          "base_uri": "https://localhost:8080/"
        },
        "id": "QRaYXHzdxqEm",
        "outputId": "4d89569f-4d82-4177-f827-3529bbdc410f"
      },
      "execution_count": null,
      "outputs": [
        {
          "output_type": "stream",
          "name": "stdout",
          "text": [
            "Successfully logged in to Hugging Face Hub.\n"
          ]
        }
      ]
    },
    {
      "cell_type": "code",
      "source": [
        "os.environ['HF_TOKEN'] = \"\""
      ],
      "metadata": {
        "id": "JC6EquNcz9HN"
      },
      "execution_count": null,
      "outputs": []
    },
    {
      "cell_type": "code",
      "source": [
        "from transformers import AutoTokenizer, AutoModelForCausalLM\n",
        "\n",
        "tokenizer = AutoTokenizer.from_pretrained(\"google/gemma-2b-it\")\n",
        "model = AutoModelForCausalLM.from_pretrained(\"google/gemma-2b-it\")"
      ],
      "metadata": {
        "colab": {
          "base_uri": "https://localhost:8080/",
          "height": 369,
          "referenced_widgets": [
            "c0acbbeb299347229deff12c9cf439d8",
            "59c8edc660084d75b1c7d3a0c1679d3a",
            "cabd77ddf6a7436489cc02f1f9966c9e",
            "5282c652bb424fd79946b5e60225b63e",
            "fa30c40960b74d23b2fffd4674f9379b",
            "075acb3b353144f4808d176680102aab",
            "3cf0170ff96b4a9ca05e04bb6e5c42ee",
            "6f1f41b29f1949518253b83fbb0fc5ad",
            "a69e8d7462fe4115b061bae90a05a39b",
            "58b81f173d5b4e48b0a4b86beb21a3a2",
            "6c0647654da24781837488fde88a2e97",
            "3e6673c1cb1d4d04a07f528f31dbe52f",
            "c3f01ef15b034e928808b059c1e53254",
            "9d91793e58c9430590e1166b1399e5f2",
            "236e55c41250468597b3230ee57eef8d",
            "955a69acbe854f94bc4e0db51052007e",
            "4517afdde999495fad47e606db529a77",
            "8963490e9e16482ab8e73da2bdc05a5c",
            "51860a1301ff4f8bbce01215e22518cc",
            "b7dd1e593d784998bc3be3629065886b",
            "01d6ea5c15d04fbea483a359a4fb6a78",
            "f35a477d3bb343f8bbe5766ef5bf1270",
            "ccce48b586a940819a43bddcdcc60d09",
            "e294f4ab3cf6425583e59c2bec60cfad",
            "d67017342f44481eb086281b40424202",
            "0cebca4672044bdca686d77a57ebe190",
            "dc961e3bc7db456185b228b84e915f94",
            "960e5c105c034bd199fe728d05999a25",
            "1b4c1c6e7770449190e5591fde13f020",
            "f6d89b62e2454ffabceb436d99ae419b",
            "285c4f964bce4673be81ea0360406c43",
            "9f0b817d2d8a43559adaaf94318c97c7",
            "d3f720b138154639bdd320676b4bc7da",
            "52cb2f36fc6a40d28eef431689ef924d",
            "14468c1529e748979f5bae6d645c5c06",
            "1ea3eb018d9546a1893cd373186938c0",
            "857257f2ab754e8ea30b953edde3e491",
            "b4c78f0ad8c94aaa91af737c2d17dc16",
            "fed480fd4de2471786752eaa9b663f28",
            "0593fcce406347708b0a9495a0dabbff",
            "52af339b2c954324b7d9b550a73f79a5",
            "60c80e2fbe844f649fe7418718e83721",
            "f28ec0e514c644a9a08d8f97b0c63033",
            "3c49546fd86a426a99728f3bbab3ae1a",
            "9f9e6b441a9e41acbe30bc0becb375e1",
            "9716e259d23e4a4ea3a18c83f2cf271f",
            "83d2d4dd796a4fcaa2ebaf7920a8903f",
            "307b3c0560014e9da12860a19ef563d9",
            "d75bf5b7c0ee41a98e313aa4b4ab3a8c",
            "87374db6cc2249f087e736dbd97d95aa",
            "147a614c918f4c219e0b8d12bda91cf5",
            "d655d8099b2d442d898eaed729c0d366",
            "328d6796b47245928c47ec552609622b",
            "8caa5f74496a4373b6457775e30160af",
            "68713a8dfab14cc792d35c67f2c57a51",
            "2c469bce3d2c424b836eb6838a383ef1",
            "7853ccc7ad50455fa172c65b08ac7724",
            "803a1a9ab8454621b8ddf3f0cbde99e6",
            "df4b09990fa14e9da05c45aaa498e422",
            "14e0087e733c463faa11440c84561810",
            "e5f6b80ea1f54307bb43c58b4bd8e705",
            "7cbedf0fb7674ff0b5cf6f1ace82c1c6",
            "47cf0a2611a040b6a36f515c8ae69adf",
            "22fd2f87203344849e9fe65f7f713ef4",
            "17a545bae2d8414cb9a95a3641a435d9",
            "13a15fec21594ef1a3884d504b3085e1",
            "9995b98bf2e543dc9d9e96c6206cb521",
            "d33c35ee772b46fe92b9937056bcc0f2",
            "6ba239cf4f0049a19a11692ad3cc31c7",
            "1424608252454fffad1c63acb232fb5d",
            "84fe51bb4d0a422e9d8251909b54cbac",
            "5436677a82a4419fa9ccda82f24a4d6e",
            "0fda523b8c49458e82a8861df616b431",
            "df7cc6209f2e46258cac834fdca65716",
            "535c17f9b5a14a1c89e715975bd222e0",
            "2a2d1a1943b248299e71afb8a0741cfa",
            "3f014d3822fb40dda33f0b1f5393d983",
            "b6cabd3a5c7c45fc8e48898024993c83",
            "1622032685454daf88eea2378857ba76",
            "4efc761566604f458668fcd6c7c28f62",
            "50c9d57c5d5d47669874abe870270759",
            "4f83e90766b14d6896fb1ef41412c9ff",
            "9b28e41ff878401cbce68f187e0db5ba",
            "3805f3ec4e8844868c5a67ecaaf06509",
            "04d03892c6714d29b6ed85f68a6af2cb",
            "ae02aab04b4642bc930d901a6d6414a1",
            "c82aa8c40f974fef9783d219dd32059c",
            "357851dd3fad468b85a2861dbf7cb925",
            "06e973bde40348a0be13443fbffe9ccf",
            "4ccf61624ec94509a95ec813cc4190c7",
            "c0b6f61fdbdb43dbb180e169fec9bf29",
            "256947ca9fc04b3b9e7c873cffcc28fc",
            "af8a81579b5740499548d9a92e26d538",
            "edf0c08d3e974b49af51785e53385790",
            "32fa53328ed340e995b5c7b7274c5b50",
            "d950892015f34e37b9887daa512d125e",
            "638bb996f9c04831931d48ace7a09da8",
            "be0ce8e29cea4fdb88ea8f2b6fd31c0e",
            "2f4e61adcf344965b5f4888dad887a0a",
            "d98af41a48464fec9c7ca711a3ca0f62",
            "c27d5270c4e04844ae12583333cf0b88",
            "7fc6867dd53348ecb5acb7f14494e215",
            "bd1fa81688b941598b0f421333b42e6c",
            "449aba614df14ab082e3d9ded5b7683b",
            "f1591dd393444305af96526883a87444",
            "1cf99a29265f479c9ea5252db6a7bc3f",
            "c01ddc2ae8da47b5863653be789f4434",
            "4b762ff7914b4e9493549fb8fb6501b1",
            "efa0fc0f24404f73aa03c09cf9ef4e12",
            "6123a7cfa8244bc09cd32f20057fe0a2",
            "e759651c58864adc9c1ee579ab193a2d",
            "08418e467b0545789dc405e284321189",
            "041e277aab4446ed9580529f5249b913",
            "bddd4fab9c3444a7abf86ed8e910b094",
            "8baf4a191ad4432d88887e63f1c1c8a7",
            "f1c2b13036754043b3fd12a6dab79866",
            "38a3b491753340ff82ec9bcbecbc78b0",
            "0d685a716ad2491cb607ea57cc8da7d5",
            "05e2f6fb3a92486cbf3b6d0e4768f9ba",
            "5d1600dd7b4841cb9b7cf6ad1fc7e9c4",
            "e65ac82b671a4f5885087a72365f516a"
          ]
        },
        "id": "_In62l000GqF",
        "outputId": "fcb204c6-0b82-43bb-c61b-07a22cbf87a6"
      },
      "execution_count": null,
      "outputs": [
        {
          "output_type": "display_data",
          "data": {
            "text/plain": [
              "tokenizer_config.json:   0%|          | 0.00/34.2k [00:00<?, ?B/s]"
            ],
            "application/vnd.jupyter.widget-view+json": {
              "version_major": 2,
              "version_minor": 0,
              "model_id": "c0acbbeb299347229deff12c9cf439d8"
            }
          },
          "metadata": {}
        },
        {
          "output_type": "display_data",
          "data": {
            "text/plain": [
              "tokenizer.model:   0%|          | 0.00/4.24M [00:00<?, ?B/s]"
            ],
            "application/vnd.jupyter.widget-view+json": {
              "version_major": 2,
              "version_minor": 0,
              "model_id": "3e6673c1cb1d4d04a07f528f31dbe52f"
            }
          },
          "metadata": {}
        },
        {
          "output_type": "display_data",
          "data": {
            "text/plain": [
              "tokenizer.json:   0%|          | 0.00/17.5M [00:00<?, ?B/s]"
            ],
            "application/vnd.jupyter.widget-view+json": {
              "version_major": 2,
              "version_minor": 0,
              "model_id": "ccce48b586a940819a43bddcdcc60d09"
            }
          },
          "metadata": {}
        },
        {
          "output_type": "display_data",
          "data": {
            "text/plain": [
              "special_tokens_map.json:   0%|          | 0.00/636 [00:00<?, ?B/s]"
            ],
            "application/vnd.jupyter.widget-view+json": {
              "version_major": 2,
              "version_minor": 0,
              "model_id": "52cb2f36fc6a40d28eef431689ef924d"
            }
          },
          "metadata": {}
        },
        {
          "output_type": "display_data",
          "data": {
            "text/plain": [
              "config.json:   0%|          | 0.00/627 [00:00<?, ?B/s]"
            ],
            "application/vnd.jupyter.widget-view+json": {
              "version_major": 2,
              "version_minor": 0,
              "model_id": "9f9e6b441a9e41acbe30bc0becb375e1"
            }
          },
          "metadata": {}
        },
        {
          "output_type": "display_data",
          "data": {
            "text/plain": [
              "model.safetensors.index.json:   0%|          | 0.00/13.5k [00:00<?, ?B/s]"
            ],
            "application/vnd.jupyter.widget-view+json": {
              "version_major": 2,
              "version_minor": 0,
              "model_id": "2c469bce3d2c424b836eb6838a383ef1"
            }
          },
          "metadata": {}
        },
        {
          "output_type": "display_data",
          "data": {
            "text/plain": [
              "Fetching 2 files:   0%|          | 0/2 [00:00<?, ?it/s]"
            ],
            "application/vnd.jupyter.widget-view+json": {
              "version_major": 2,
              "version_minor": 0,
              "model_id": "9995b98bf2e543dc9d9e96c6206cb521"
            }
          },
          "metadata": {}
        },
        {
          "output_type": "display_data",
          "data": {
            "text/plain": [
              "model-00002-of-00002.safetensors:   0%|          | 0.00/67.1M [00:00<?, ?B/s]"
            ],
            "application/vnd.jupyter.widget-view+json": {
              "version_major": 2,
              "version_minor": 0,
              "model_id": "b6cabd3a5c7c45fc8e48898024993c83"
            }
          },
          "metadata": {}
        },
        {
          "output_type": "display_data",
          "data": {
            "text/plain": [
              "model-00001-of-00002.safetensors:   0%|          | 0.00/4.95G [00:00<?, ?B/s]"
            ],
            "application/vnd.jupyter.widget-view+json": {
              "version_major": 2,
              "version_minor": 0,
              "model_id": "06e973bde40348a0be13443fbffe9ccf"
            }
          },
          "metadata": {}
        },
        {
          "output_type": "display_data",
          "data": {
            "text/plain": [
              "Loading checkpoint shards:   0%|          | 0/2 [00:00<?, ?it/s]"
            ],
            "application/vnd.jupyter.widget-view+json": {
              "version_major": 2,
              "version_minor": 0,
              "model_id": "d98af41a48464fec9c7ca711a3ca0f62"
            }
          },
          "metadata": {}
        },
        {
          "output_type": "display_data",
          "data": {
            "text/plain": [
              "generation_config.json:   0%|          | 0.00/137 [00:00<?, ?B/s]"
            ],
            "application/vnd.jupyter.widget-view+json": {
              "version_major": 2,
              "version_minor": 0,
              "model_id": "e759651c58864adc9c1ee579ab193a2d"
            }
          },
          "metadata": {}
        }
      ]
    },
    {
      "cell_type": "code",
      "source": [
        "input_text = \"Write  a Function in Python to implement XORSHIFT in a way I can explain.\"\n",
        "input_ids = tokenizer(input_text, return_tensors=\"pt\")\n",
        "\n",
        "outputs = model.generate(**input_ids, max_new_tokens=1024)\n",
        "print(tokenizer.decode(outputs[0]))"
      ],
      "metadata": {
        "colab": {
          "base_uri": "https://localhost:8080/"
        },
        "id": "obhIMA5m2cNV",
        "outputId": "a2af1de4-304a-49d3-c772-1685161c44e4"
      },
      "execution_count": null,
      "outputs": [
        {
          "output_type": "stream",
          "name": "stdout",
          "text": [
            "<bos>Write  a Function in Python to implement XORSHIFT in a way I can explain.\n",
            "\n",
            "The XORSHIFT function takes two arguments: a and b, and returns the result of XORing the shifted rightmost bit of a with the leftmost bit of b.\n",
            "\n",
            "**Example:**\n",
            "\n",
            "```python\n",
            "XORSHIFT(1, 5) = 10\n",
            "```\n",
            "\n",
            "**Explanation:**\n",
            "\n",
            "* The shifted rightmost bit of 1 is 1.\n",
            "* The leftmost bit of 5 is 1.\n",
            "* XORing these bits gives us 10, which is the result of XORing the rightmost bit of 1 with the leftmost bit of 5.\n",
            "\n",
            "**Implementation:**\n",
            "\n",
            "```python\n",
            "def XORSHIFT(a, b):\n",
            "  \"\"\"\n",
            "  XORSHIFT takes two arguments: a and b, and returns the result of XORing the shifted rightmost bit of a with the leftmost bit of b.\n",
            "\n",
            "  Args:\n",
            "    a: The first integer.\n",
            "    b: The second integer.\n",
            "\n",
            "  Returns:\n",
            "    The result of XORing the shifted rightmost bit of a with the leftmost bit of b.\n",
            "  \"\"\"\n",
            "\n",
            "  # Create a new variable to store the result.\n",
            "  result = 0\n",
            "\n",
            "  # Iterate through the bits in a from right to left.\n",
            "  for i in range(32, len(a) + 1):\n",
            "    # If the current bit is 1, XOR it with the rightmost bit of b.\n",
            "    if a[i - 1] == 1:\n",
            "      result ^= b[i - 1]\n",
            "\n",
            "    # Otherwise, XOR it with the leftmost bit of b.\n",
            "    else:\n",
            "      result ^= b[i - 1]\n",
            "\n",
            "  # Return the result.\n",
            "  return result\n",
            "```\n",
            "\n",
            "**How to use the XORSHIFT function:**\n",
            "\n",
            "```python\n",
            "# Get the two integers to XOR.\n",
            "a = int(input(\"Enter the first integer: \"))\n",
            "b = int(input(\"Enter the second integer: \"))\n",
            "\n",
            "# XOR the rightmost bit of a with the leftmost bit of b.\n",
            "result = XORSHIFT(a, b)\n",
            "\n",
            "# Print the result.\n",
            "print(\"The result is:\", result)\n",
            "```<eos>\n"
          ]
        }
      ]
    },
    {
      "cell_type": "code",
      "source": [
        "input_text = \"How to select 5 to 10 random records from a table using SQL\"\n",
        "input_ids = tokenizer(input_text, return_tensors=\"pt\")\n",
        "\n",
        "outputs = model.generate(**input_ids, max_new_tokens=1024)\n",
        "print(tokenizer.decode(outputs[0]))"
      ],
      "metadata": {
        "colab": {
          "base_uri": "https://localhost:8080/"
        },
        "id": "y-TKlKSk4bHv",
        "outputId": "a1812470-aeec-4e73-d854-75e61bbf1b01"
      },
      "execution_count": null,
      "outputs": [
        {
          "output_type": "stream",
          "name": "stdout",
          "text": [
            "<bos>How to select 5 to 10 random records from a table using SQL?\n",
            "\n",
            "There are two ways to select 5 to 10 random records from a table using SQL:\n",
            "\n",
            "**1. Using the RAND() function:**\n",
            "\n",
            "```sql\n",
            "SELECT * FROM table_name ORDER BY RAND() LIMIT 5 OFFSET 0;\n",
            "```\n",
            "\n",
            "**2. Using the LIMIT and OFFSET clauses:**\n",
            "\n",
            "```sql\n",
            "SELECT * FROM table_name LIMIT 5 OFFSET 0;\n",
            "```\n",
            "\n",
            "**Here's how each method works:**\n",
            "\n",
            "**1. Using the RAND() function:**\n",
            "\n",
            "* The `RAND()` function generates a random decimal number between 0 and 1.\n",
            "* We order the results by the `RAND()` value in ascending order.\n",
            "* `LIMIT 5` specifies that only the first 5 rows are selected.\n",
            "* `OFFSET 0` specifies that the results should be offset from the beginning by 0 rows.\n",
            "\n",
            "**2. Using the LIMIT and OFFSET clauses:**\n",
            "\n",
            "* The `LIMIT 5` clause specifies that only the first 5 rows are selected.\n",
            "* The `OFFSET 0` clause specifies that the results should be offset from the beginning by 0 rows.\n",
            "\n",
            "**Which method to choose?**\n",
            "\n",
            "* The `RAND()` function is more efficient for large tables, as it avoids the need to sort the results.\n",
            "* The `LIMIT` and `OFFSET` clauses are more efficient for small tables, as they avoid the need to use a random function.\n",
            "\n",
            "**Additional notes:**\n",
            "\n",
            "* You can adjust the number of records selected by changing the value of `5` in the `LIMIT` clause.\n",
            "* You can also use other random functions, such as `ORDER BY RAND(rand_column)`, to select records based on a specific column value.\n",
            "* Both methods will return the same results, but the order of the records may differ slightly due to the random nature of the `RAND()` function.<eos>\n"
          ]
        }
      ]
    },
    {
      "cell_type": "code",
      "source": [
        "import torch\n",
        "from transformers import pipeline"
      ],
      "metadata": {
        "id": "nmVl0mtv5HZv"
      },
      "execution_count": null,
      "outputs": []
    },
    {
      "cell_type": "code",
      "source": [
        "pipe = pipeline(\n",
        "        \"text-generation\",\n",
        "        model=\"google/gemma-2-2b-it\",\n",
        "        model_kwargs={\"torch_dtype\": torch.bfloat16}, # Use bfloat16 for memory efficiency\n",
        "        device=\"cpu\", # or \"mps\" for Mac, or None for CPU\n",
        "    )"
      ],
      "metadata": {
        "colab": {
          "base_uri": "https://localhost:8080/",
          "height": 66,
          "referenced_widgets": [
            "ba6ba169b0e649f19fbf1c36128733a0",
            "0db7e62587274e6b8ec447b4d5bd09ea",
            "dcaefb09487a4eba861cfd43aa11cf43",
            "c8dbd8e3700b4d00a0ae4d7922771a2b",
            "7751828300d84e9d84f538b9ad038f3f",
            "012252b8645642aa94dbc923cfd5ec77",
            "daf8c6d1c209421fb5f96fbcc44e0a38",
            "c06962c7eb0c4d9a99459eb32cd49118",
            "cf34c606b802448dbac0d9aad7bb954d",
            "b8505d82666646329f4d1b84b2e26239",
            "2f47bde6dbaa4b8cbce9a3dce26bece2"
          ]
        },
        "id": "HA0Fyvxi5LNB",
        "outputId": "bfdc10d7-6f90-4041-ceea-eecf845fcace"
      },
      "execution_count": null,
      "outputs": [
        {
          "output_type": "display_data",
          "data": {
            "text/plain": [
              "Loading checkpoint shards:   0%|          | 0/2 [00:00<?, ?it/s]"
            ],
            "application/vnd.jupyter.widget-view+json": {
              "version_major": 2,
              "version_minor": 0,
              "model_id": "ba6ba169b0e649f19fbf1c36128733a0"
            }
          },
          "metadata": {}
        },
        {
          "output_type": "stream",
          "name": "stderr",
          "text": [
            "Device set to use cpu\n"
          ]
        }
      ]
    },
    {
      "cell_type": "code",
      "source": [
        " messages = [\n",
        "        {\"role\": \"user\", \"content\": \"I have table in SQL. There are two columns Innings and Runs. Write a Query to get Sum of Runs scored in First Innings\"},\n",
        "    ]"
      ],
      "metadata": {
        "id": "2aSM5WjX5Oev"
      },
      "execution_count": null,
      "outputs": []
    },
    {
      "cell_type": "code",
      "source": [
        "outputs = pipe(messages, max_new_tokens=200, do_sample=True, temperature=0.7)\n",
        "print(outputs[0][\"generated_text\"])\n"
      ],
      "metadata": {
        "colab": {
          "base_uri": "https://localhost:8080/"
        },
        "id": "gqAtdFkH5Q4L",
        "outputId": "c3074306-e273-4d33-d9ea-37dce87e2d18"
      },
      "execution_count": null,
      "outputs": [
        {
          "output_type": "stream",
          "name": "stdout",
          "text": [
            "[{'role': 'user', 'content': 'I have table in SQL. There are two columns Innings and Runs. Write a Query to get Sum of Runs scored in First Innings'}, {'role': 'assistant', 'content': \"```sql\\nSELECT SUM(Runs) AS TotalRunsFirstInnings\\nFROM YourTable\\nWHERE Innings = 1;\\n```\\n\\n**Explanation:**\\n\\n* **SELECT SUM(Runs) AS TotalRunsFirstInnings:** This line selects the sum of the 'Runs' column and aliases it as 'TotalRunsFirstInnings'.\\n* **FROM YourTable:** Replace 'YourTable' with the actual name of your table.\\n* **WHERE Innings = 1:** This filters the data to only include rows where the 'Innings' column has a value of 1, representing the first inning.\\n\\n**Key Points:**\\n\\n* **Replace `YourTable` with your actual table name:** Make sure to update the placeholder with the correct table name.\\n* **Column Names:**  This query assumes the column names are 'Innings' and 'Runs'. If they are different, adjust the query accordingly. \\n\\n\\n **Example:**\\n\\nLet's say your\"}]\n"
          ]
        }
      ]
    }
  ]
}