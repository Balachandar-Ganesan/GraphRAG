{
  "nbformat": 4,
  "nbformat_minor": 0,
  "metadata": {
    "colab": {
      "provenance": [],
      "authorship_tag": "ABX9TyMwwBInAj7Z44hB7w4f4mfU",
      "include_colab_link": true
    },
    "kernelspec": {
      "name": "python3",
      "display_name": "Python 3"
    },
    "language_info": {
      "name": "python"
    }
  },
  "cells": [
    {
      "cell_type": "markdown",
      "metadata": {
        "id": "view-in-github",
        "colab_type": "text"
      },
      "source": [
        "<a href=\"https://colab.research.google.com/github/Balachandar-Ganesan/GraphRAG/blob/main/GenAIGEmma.ipynb\" target=\"_parent\"><img src=\"https://colab.research.google.com/assets/colab-badge.svg\" alt=\"Open In Colab\"/></a>"
      ]
    },
    {
      "cell_type": "code",
      "execution_count": null,
      "metadata": {
        "id": "hPfPSAzOxVjD"
      },
      "outputs": [],
      "source": [
        "!pip install transformers torch accelerate"
      ]
    },
    {
      "cell_type": "code",
      "source": [
        "from huggingface_hub import login\n",
        "import os\n",
        "\n",
        "try:\n",
        "        from google.colab import userdata\n",
        "        hf_token = userdata.get(\"HF_TOKEN\")\n",
        "        login(token=hf_token)\n",
        "        print(\"Successfully logged in to Hugging Face Hub.\")\n",
        "except Exception as e:\n",
        "        print(f\"Error logging in to Hugging Face Hub: {e}\")\n",
        "        print(\"Ensure 'HF_TOKEN' is set as a secret in Colab and 'Notebook access' is enabled.\")"
      ],
      "metadata": {
        "colab": {
          "base_uri": "https://localhost:8080/"
        },
        "id": "QRaYXHzdxqEm",
        "outputId": "4d89569f-4d82-4177-f827-3529bbdc410f"
      },
      "execution_count": null,
      "outputs": [
        {
          "output_type": "stream",
          "name": "stdout",
          "text": [
            "Successfully logged in to Hugging Face Hub.\n"
          ]
        }
      ]
    },
    {
      "cell_type": "code",
      "source": [
        "os.environ['HF_TOKEN'] = \"\""
      ],
      "metadata": {
        "id": "JC6EquNcz9HN"
      },
      "execution_count": null,
      "outputs": []
    },
    {
      "cell_type": "code",
      "source": [
        "from transformers import AutoTokenizer, AutoModelForCausalLM\n",
        "\n",
        "tokenizer = AutoTokenizer.from_pretrained(\"google/gemma-2b-it\")\n",
        "model = AutoModelForCausalLM.from_pretrained(\"google/gemma-2b-it\")"
      ],
      "metadata": {
        "id": "_In62l000GqF"
      },
      "execution_count": null,
      "outputs": []
    },
    {
      "cell_type": "code",
      "source": [
        "input_text = \"Write  a Function in Python to implement XORSHIFT in a way I can explain.\"\n",
        "input_ids = tokenizer(input_text, return_tensors=\"pt\")\n",
        "\n",
        "outputs = model.generate(**input_ids, max_new_tokens=1024)\n",
        "print(tokenizer.decode(outputs[0]))"
      ],
      "metadata": {
        "colab": {
          "base_uri": "https://localhost:8080/"
        },
        "id": "obhIMA5m2cNV",
        "outputId": "a2af1de4-304a-49d3-c772-1685161c44e4"
      },
      "execution_count": null,
      "outputs": [
        {
          "output_type": "stream",
          "name": "stdout",
          "text": [
            "<bos>Write  a Function in Python to implement XORSHIFT in a way I can explain.\n",
            "\n",
            "The XORSHIFT function takes two arguments: a and b, and returns the result of XORing the shifted rightmost bit of a with the leftmost bit of b.\n",
            "\n",
            "**Example:**\n",
            "\n",
            "```python\n",
            "XORSHIFT(1, 5) = 10\n",
            "```\n",
            "\n",
            "**Explanation:**\n",
            "\n",
            "* The shifted rightmost bit of 1 is 1.\n",
            "* The leftmost bit of 5 is 1.\n",
            "* XORing these bits gives us 10, which is the result of XORing the rightmost bit of 1 with the leftmost bit of 5.\n",
            "\n",
            "**Implementation:**\n",
            "\n",
            "```python\n",
            "def XORSHIFT(a, b):\n",
            "  \"\"\"\n",
            "  XORSHIFT takes two arguments: a and b, and returns the result of XORing the shifted rightmost bit of a with the leftmost bit of b.\n",
            "\n",
            "  Args:\n",
            "    a: The first integer.\n",
            "    b: The second integer.\n",
            "\n",
            "  Returns:\n",
            "    The result of XORing the shifted rightmost bit of a with the leftmost bit of b.\n",
            "  \"\"\"\n",
            "\n",
            "  # Create a new variable to store the result.\n",
            "  result = 0\n",
            "\n",
            "  # Iterate through the bits in a from right to left.\n",
            "  for i in range(32, len(a) + 1):\n",
            "    # If the current bit is 1, XOR it with the rightmost bit of b.\n",
            "    if a[i - 1] == 1:\n",
            "      result ^= b[i - 1]\n",
            "\n",
            "    # Otherwise, XOR it with the leftmost bit of b.\n",
            "    else:\n",
            "      result ^= b[i - 1]\n",
            "\n",
            "  # Return the result.\n",
            "  return result\n",
            "```\n",
            "\n",
            "**How to use the XORSHIFT function:**\n",
            "\n",
            "```python\n",
            "# Get the two integers to XOR.\n",
            "a = int(input(\"Enter the first integer: \"))\n",
            "b = int(input(\"Enter the second integer: \"))\n",
            "\n",
            "# XOR the rightmost bit of a with the leftmost bit of b.\n",
            "result = XORSHIFT(a, b)\n",
            "\n",
            "# Print the result.\n",
            "print(\"The result is:\", result)\n",
            "```<eos>\n"
          ]
        }
      ]
    },
    {
      "cell_type": "code",
      "source": [
        "input_text = \"How to select 5 to 10 random records from a table using SQL\"\n",
        "input_ids = tokenizer(input_text, return_tensors=\"pt\")\n",
        "\n",
        "outputs = model.generate(**input_ids, max_new_tokens=1024)\n",
        "print(tokenizer.decode(outputs[0]))"
      ],
      "metadata": {
        "colab": {
          "base_uri": "https://localhost:8080/"
        },
        "id": "y-TKlKSk4bHv",
        "outputId": "a1812470-aeec-4e73-d854-75e61bbf1b01"
      },
      "execution_count": null,
      "outputs": [
        {
          "output_type": "stream",
          "name": "stdout",
          "text": [
            "<bos>How to select 5 to 10 random records from a table using SQL?\n",
            "\n",
            "There are two ways to select 5 to 10 random records from a table using SQL:\n",
            "\n",
            "**1. Using the RAND() function:**\n",
            "\n",
            "```sql\n",
            "SELECT * FROM table_name ORDER BY RAND() LIMIT 5 OFFSET 0;\n",
            "```\n",
            "\n",
            "**2. Using the LIMIT and OFFSET clauses:**\n",
            "\n",
            "```sql\n",
            "SELECT * FROM table_name LIMIT 5 OFFSET 0;\n",
            "```\n",
            "\n",
            "**Here's how each method works:**\n",
            "\n",
            "**1. Using the RAND() function:**\n",
            "\n",
            "* The `RAND()` function generates a random decimal number between 0 and 1.\n",
            "* We order the results by the `RAND()` value in ascending order.\n",
            "* `LIMIT 5` specifies that only the first 5 rows are selected.\n",
            "* `OFFSET 0` specifies that the results should be offset from the beginning by 0 rows.\n",
            "\n",
            "**2. Using the LIMIT and OFFSET clauses:**\n",
            "\n",
            "* The `LIMIT 5` clause specifies that only the first 5 rows are selected.\n",
            "* The `OFFSET 0` clause specifies that the results should be offset from the beginning by 0 rows.\n",
            "\n",
            "**Which method to choose?**\n",
            "\n",
            "* The `RAND()` function is more efficient for large tables, as it avoids the need to sort the results.\n",
            "* The `LIMIT` and `OFFSET` clauses are more efficient for small tables, as they avoid the need to use a random function.\n",
            "\n",
            "**Additional notes:**\n",
            "\n",
            "* You can adjust the number of records selected by changing the value of `5` in the `LIMIT` clause.\n",
            "* You can also use other random functions, such as `ORDER BY RAND(rand_column)`, to select records based on a specific column value.\n",
            "* Both methods will return the same results, but the order of the records may differ slightly due to the random nature of the `RAND()` function.<eos>\n"
          ]
        }
      ]
    },
    {
      "cell_type": "code",
      "source": [
        "import torch\n",
        "from transformers import pipeline"
      ],
      "metadata": {
        "id": "nmVl0mtv5HZv"
      },
      "execution_count": null,
      "outputs": []
    },
    {
      "cell_type": "code",
      "source": [
        "pipe = pipeline(\n",
        "        \"text-generation\",\n",
        "        model=\"google/gemma-2-2b-it\",\n",
        "        model_kwargs={\"torch_dtype\": torch.bfloat16}, # Use bfloat16 for memory efficiency\n",
        "        device=\"cpu\", # or \"mps\" for Mac, or None for CPU\n",
        "    )"
      ],
      "metadata": {
        "id": "HA0Fyvxi5LNB"
      },
      "execution_count": null,
      "outputs": []
    },
    {
      "cell_type": "code",
      "source": [
        " messages = [\n",
        "        {\"role\": \"user\", \"content\": \"I have table in SQL. There are two columns Innings and Runs. Write a Query to get Sum of Runs scored in First Innings\"},\n",
        "    ]"
      ],
      "metadata": {
        "id": "2aSM5WjX5Oev"
      },
      "execution_count": null,
      "outputs": []
    },
    {
      "cell_type": "code",
      "source": [
        "outputs = pipe(messages, max_new_tokens=200, do_sample=True, temperature=0.7)\n",
        "print(outputs[0][\"generated_text\"])\n"
      ],
      "metadata": {
        "colab": {
          "base_uri": "https://localhost:8080/"
        },
        "id": "gqAtdFkH5Q4L",
        "outputId": "c3074306-e273-4d33-d9ea-37dce87e2d18"
      },
      "execution_count": null,
      "outputs": [
        {
          "output_type": "stream",
          "name": "stdout",
          "text": [
            "[{'role': 'user', 'content': 'I have table in SQL. There are two columns Innings and Runs. Write a Query to get Sum of Runs scored in First Innings'}, {'role': 'assistant', 'content': \"```sql\\nSELECT SUM(Runs) AS TotalRunsFirstInnings\\nFROM YourTable\\nWHERE Innings = 1;\\n```\\n\\n**Explanation:**\\n\\n* **SELECT SUM(Runs) AS TotalRunsFirstInnings:** This line selects the sum of the 'Runs' column and aliases it as 'TotalRunsFirstInnings'.\\n* **FROM YourTable:** Replace 'YourTable' with the actual name of your table.\\n* **WHERE Innings = 1:** This filters the data to only include rows where the 'Innings' column has a value of 1, representing the first inning.\\n\\n**Key Points:**\\n\\n* **Replace `YourTable` with your actual table name:** Make sure to update the placeholder with the correct table name.\\n* **Column Names:**  This query assumes the column names are 'Innings' and 'Runs'. If they are different, adjust the query accordingly. \\n\\n\\n **Example:**\\n\\nLet's say your\"}]\n"
          ]
        }
      ]
    }
  ]
}