{
  "nbformat": 4,
  "nbformat_minor": 0,
  "metadata": {
    "colab": {
      "provenance": [],
      "gpuType": "T4"
    },
    "kernelspec": {
      "name": "python3",
      "display_name": "Python 3"
    },
    "language_info": {
      "name": "python"
    },
    "accelerator": "GPU"
  },
  "cells": [
    {
      "cell_type": "code",
      "execution_count": null,
      "metadata": {
        "id": "8bAMjQKJfG3d"
      },
      "outputs": [],
      "source": [
        "!pip install torch transformers bitsandbytes accelerate sqlparse"
      ]
    },
    {
      "cell_type": "code",
      "source": [
        "import torch\n",
        "from transformers import AutoTokenizer, AutoModelForCausalLM"
      ],
      "metadata": {
        "id": "BzllQomZfQnj"
      },
      "execution_count": null,
      "outputs": []
    },
    {
      "cell_type": "code",
      "source": [
        "model_name = \"defog/sqlcoder-7b-2\"\n",
        "tokenizer = AutoTokenizer.from_pretrained(model_name)\n",
        "\n",
        "    # if you have atleast 15GB of GPU memory, run load the model in float16\n",
        "model = AutoModelForCausalLM.from_pretrained(\n",
        "        model_name,\n",
        "        trust_remote_code=True,\n",
        "        torch_dtype=torch.float16,\n",
        "        device_map=\"auto\",\n",
        "        use_cache=True,\n",
        "    )\n"
      ],
      "metadata": {
        "id": "_mNT25UOfSMw"
      },
      "execution_count": null,
      "outputs": []
    },
    {
      "cell_type": "code",
      "source": [
        "prompt = \"\"\"### Task\n",
        "Generate a SQL query to answer [QUESTION]{question}[/QUESTION]\n",
        "\n",
        "### Instructions\n",
        "- If you cannot answer the question with the available database schema, return 'Check EspnCricInfo'\n",
        "- Remember that battingaverage is sum of Runs divided by number of matches\n",
        "- Remember that Century is Runs greater than or equal to 100\n",
        "\n",
        "\n",
        "### Database Schema\n",
        "This query will run on a database whose schema is represented in this string:\n",
        "CREATE TABLE Scores (\n",
        "  MatchID INTEGER PRIMARY KEY, -- Unique ID for each Match\n",
        "  Opposition VARCHAR(50), -- Name of cricket team\n",
        "  Innings INTEGER, -- batted first or second\n",
        "  Runs INTEGER  -- Runs Scored in the match\n",
        ");\n",
        "\n",
        "\n",
        "\"\"\""
      ],
      "metadata": {
        "id": "0eI-VpCkf-fN"
      },
      "execution_count": null,
      "outputs": []
    },
    {
      "cell_type": "code",
      "source": [
        "import sqlparse\n",
        "\n",
        "def generate_query(question):\n",
        "    updated_prompt = prompt.format(question=question)\n",
        "    inputs = tokenizer(updated_prompt, return_tensors=\"pt\").to(\"cuda\")\n",
        "    generated_ids = model.generate(\n",
        "        **inputs,\n",
        "        num_return_sequences=1,\n",
        "        eos_token_id=tokenizer.eos_token_id,\n",
        "        pad_token_id=tokenizer.eos_token_id,\n",
        "        max_new_tokens=400,\n",
        "        do_sample=False,\n",
        "        num_beams=1,\n",
        "    )\n",
        "    outputs = tokenizer.batch_decode(generated_ids, skip_special_tokens=True)\n",
        "\n",
        "    torch.cuda.empty_cache()\n",
        "    torch.cuda.synchronize()\n",
        "    # empty cache so that you do generate more results w/o memory crashing\n",
        "    # particularly important on Colab – memory management is much more straightforward\n",
        "    # when running on an inference service\n",
        "    return sqlparse.format(outputs[0].split(\"[SQL]\")[-1], reindent=True)"
      ],
      "metadata": {
        "id": "4iBKg6Rmmpnw"
      },
      "execution_count": null,
      "outputs": []
    },
    {
      "cell_type": "code",
      "source": [
        "question = \"Total Runs Scored against each opposition\"\n",
        "generated_sql = generate_query(question)\n",
        "print(generated_sql)"
      ],
      "metadata": {
        "id": "jCJvcurqlP2_",
        "colab": {
          "base_uri": "https://localhost:8080/"
        },
        "outputId": "7e5e4598-c404-4b49-8245-f90b3c3b0b6c"
      },
      "execution_count": null,
      "outputs": [
        {
          "output_type": "stream",
          "name": "stdout",
          "text": [
            "### Task Generate a SQL query to answer [QUESTION]Total Runs Scored against each opposition[/QUESTION] ### Instructions - If you cannot answer the question with the available database schema,\n",
            "                                                                                                                                                                                        return 'Check EspnCricInfo' - Remember that battingaverage is sum of Runs divided by number of matches - Remember that Century is Runs greater than\n",
            "or equal to 100 ### Database Schema This query will run on a database whose schema is represented in this string:\n",
            "CREATE TABLE Scores (MatchID INTEGER PRIMARY KEY, -- Unique ID for each Match\n",
            " Opposition VARCHAR(50), -- Name of cricket team\n",
            " Innings INTEGER, -- batted first or second\n",
            " Runs INTEGER -- Runs Scored in the match\n",
            ");\n",
            "\n",
            "\n",
            "SELECT s.Opposition,\n",
            "       SUM(s.Runs) AS total_runs,\n",
            "       COUNT(s.MatchID) AS matches_played,\n",
            "       AVG(s.Runs) AS batting_average,\n",
            "       SUM(CASE\n",
            "               WHEN s.Runs >= 100 THEN 1\n",
            "               ELSE 0\n",
            "           END) AS centuries\n",
            "FROM Scores s\n",
            "GROUP BY s.Opposition\n",
            "ORDER BY total_runs DESC NULLS LAST;\n"
          ]
        }
      ]
    },
    {
      "cell_type": "code",
      "source": [
        "question = \"Runs scored during First Innings\"\n",
        "generated_sql = generate_query(question)\n",
        "print(generated_sql)"
      ],
      "metadata": {
        "id": "09ysYJbsnKUh",
        "outputId": "3b29d258-13bc-4eda-90c5-b3bc02306e54",
        "colab": {
          "base_uri": "https://localhost:8080/"
        }
      },
      "execution_count": null,
      "outputs": [
        {
          "output_type": "stream",
          "name": "stdout",
          "text": [
            "### Task Generate a SQL query to answer [QUESTION]Runs scored during First Innings[/QUESTION] ### Instructions - If you cannot answer the question with the available database schema,\n",
            "                                                                                                                                                                               return 'Check EspnCricInfo' - Remember that battingaverage is sum of Runs divided by number of matches - Remember that Century is Runs greater than\n",
            "or equal to 100 ### Database Schema This query will run on a database whose schema is represented in this string:\n",
            "CREATE TABLE Scores (MatchID INTEGER PRIMARY KEY, -- Unique ID for each Match\n",
            " Opposition VARCHAR(50), -- Name of cricket team\n",
            " Innings INTEGER, -- batted first or second\n",
            " Runs INTEGER -- Runs Scored in the match\n",
            ");\n",
            "\n",
            "\n",
            "SELECT SUM(s.Runs) AS total_runs\n",
            "FROM Scores s\n",
            "WHERE s.Innings = 1;\n"
          ]
        }
      ]
    },
    {
      "cell_type": "code",
      "source": [
        "question = \"BattingAverage\"\n",
        "generated_sql = generate_query(question)\n",
        "print(generated_sql)"
      ],
      "metadata": {
        "colab": {
          "base_uri": "https://localhost:8080/"
        },
        "id": "BmxQR3uOPFLk",
        "outputId": "532a3916-1e11-4e83-de61-2e52a5801fe5"
      },
      "execution_count": null,
      "outputs": [
        {
          "output_type": "stream",
          "name": "stdout",
          "text": [
            "### Task Generate a SQL query to answer [QUESTION]BattingAverage[/QUESTION] ### Instructions - If you cannot answer the question with the available database schema,\n",
            "                                                                                                                                                             return 'Check EspnCricInfo' - Remember that battingaverage is sum of Runs divided by number of matches - Remember that Century is Runs greater than\n",
            "or equal to 100 ### Database Schema This query will run on a database whose schema is represented in this string:\n",
            "CREATE TABLE Scores (MatchID INTEGER PRIMARY KEY, -- Unique ID for each Match\n",
            " Opposition VARCHAR(50), -- Name of cricket team\n",
            " Innings INTEGER, -- batted first or second\n",
            " Runs INTEGER -- Runs Scored in the match\n",
            ");\n",
            "\n",
            "\n",
            "SELECT CAST(SUM(s.Runs) AS FLOAT) / NULLIF(COUNT(s.MatchID), 0) AS BattingAverage\n",
            "FROM Scores s;\n"
          ]
        }
      ]
    },
    {
      "cell_type": "code",
      "source": [
        "question = \"List of Matches where scores was century\"\n",
        "generated_sql = generate_query(question)\n",
        "print(generated_sql)"
      ],
      "metadata": {
        "colab": {
          "base_uri": "https://localhost:8080/"
        },
        "id": "PRHOcr8PPOji",
        "outputId": "e065e940-9629-4b64-a4f2-3f711a16d8f5"
      },
      "execution_count": null,
      "outputs": [
        {
          "output_type": "stream",
          "name": "stdout",
          "text": [
            "### Task Generate a SQL query to answer [QUESTION]List of Matches\n",
            "where scores was century[/QUESTION] ### Instructions - If you cannot answer the question with the available database schema,\n",
            "                                                                                                                     return 'Check EspnCricInfo' - Remember that battingaverage is sum of Runs divided by number of matches - Remember that Century is Runs greater than\n",
            "  or equal to 100 ### Database Schema This query will run on a database whose schema is represented in this string:\n",
            "  CREATE TABLE Scores (MatchID INTEGER PRIMARY KEY, -- Unique ID for each Match\n",
            " Opposition VARCHAR(50), -- Name of cricket team\n",
            " Innings INTEGER, -- batted first or second\n",
            " Runs INTEGER -- Runs Scored in the match\n",
            ");\n",
            "\n",
            "\n",
            "SELECT s.MatchID,\n",
            "       s.Opposition,\n",
            "       s.Innings,\n",
            "       s.Runs\n",
            "FROM Scores s\n",
            "WHERE s.Runs >= 100\n"
          ]
        }
      ]
    }
  ]
}