{
  "nbformat": 4,
  "nbformat_minor": 0,
  "metadata": {
    "colab": {
      "provenance": [],
      "authorship_tag": "ABX9TyNSjUWY7+lkgiiTmE8aoeCV",
      "include_colab_link": true
    },
    "kernelspec": {
      "name": "python3",
      "display_name": "Python 3"
    },
    "language_info": {
      "name": "python"
    }
  },
  "cells": [
    {
      "cell_type": "markdown",
      "metadata": {
        "id": "view-in-github",
        "colab_type": "text"
      },
      "source": [
        "<a href=\"https://colab.research.google.com/github/Balachandar-Ganesan/GraphRAG/blob/main/BuildNN.ipynb\" target=\"_parent\"><img src=\"https://colab.research.google.com/assets/colab-badge.svg\" alt=\"Open In Colab\"/></a>"
      ]
    },
    {
      "cell_type": "code",
      "execution_count": null,
      "metadata": {
        "id": "E0JVozJMrGXT"
      },
      "outputs": [],
      "source": [
        "import string\n",
        "\n",
        "def count_letters(name):\n",
        "  \"\"\"\n",
        "  Counts the frequency of each letter in a name and returns a list of 26 integers.\n",
        "\n",
        "  Args:\n",
        "    name: The input name as a string.\n",
        "\n",
        "  Returns:\n",
        "    A list of 26 integers, where the value at each index corresponds to\n",
        "    the count of the letter at that index in the lowercase English alphabet.\n",
        "  \"\"\"\n",
        "\n",
        "  # 1. Initialize a list of 26 zeros, one for each letter of the alphabet.\n",
        "  counts = [0] * 26  #\n",
        "\n",
        "  # 2. Convert the input name to lowercase to ensure case-insensitivity.\n",
        "  lower_name = name.lower()\n",
        "\n",
        "  # 3. Iterate through each character in the alphabet.\n",
        "  for i, letter in enumerate(string.ascii_lowercase): #\n",
        "    # 4. Count the occurrences of the current letter in the name.\n",
        "    letter_count = lower_name.count(letter)  #\n",
        "\n",
        "    # 5. Assign the count to the corresponding index in the results list.\n",
        "    counts[i] = letter_count\n",
        "\n",
        "  return counts\n",
        "\n",
        "# Example usage:\n",
        "my_name = \"Mamata Banerjee\"\n",
        "letter_counts = count_letters(my_name)\n",
        "\n",
        "print(f\"Name: {my_name}\")\n",
        "print(f\"Letter counts: {letter_counts}\")\n",
        "\n",
        "# Optional: To see which letter corresponds to each count\n",
        "for i, count in enumerate(letter_counts):\n",
        "  letter = string.ascii_lowercase[i]\n",
        "  if count > 0:\n",
        "    print(f\"'{letter}': {count}\")"
      ]
    },
    {
      "cell_type": "code",
      "source": [
        "def nameEmbedding(name,intGender):\n",
        "  letter_counts = count_letters(name)\n",
        "  letter_counts.append(intGender)\n",
        "  #print(letter_counts\n",
        "  return (letter_counts)\n",
        "\n"
      ],
      "metadata": {
        "id": "zIn75RGlr5fP"
      },
      "execution_count": 8,
      "outputs": []
    },
    {
      "cell_type": "code",
      "source": [
        "!pip install Faker"
      ],
      "metadata": {
        "id": "fn2ajSRVsjV6"
      },
      "execution_count": null,
      "outputs": []
    },
    {
      "cell_type": "code",
      "source": [
        "from faker import Faker\n",
        "import pandas as pd\n",
        "\n",
        "    # Initialize Faker with the Indian English locale (en_IN)\n",
        "fake = Faker('en_IN')\n",
        "\n",
        "\n",
        "\n",
        "lstnameEmbedding=[]\n",
        "\n",
        "    # Generate multiple Indian male names\n",
        "\n",
        "for _ in range(500):\n",
        "        lstnameEmbedding.append(nameEmbedding(fake.name_male(),0.9))\n",
        "\n",
        "\n",
        "\n",
        "\n",
        "    # Generate multiple Indian female names\n",
        "\n",
        "for _ in range(500):\n",
        "        lstnameEmbedding.append(nameEmbedding(fake.name_female(),0.1))\n",
        "df = pd.DataFrame(lstnameEmbedding)\n",
        "df.to_csv('nameEmbedding.csv', index=False)"
      ],
      "metadata": {
        "id": "jzlQol1ztBr6"
      },
      "execution_count": 23,
      "outputs": []
    },
    {
      "cell_type": "code",
      "source": [
        "import numpy as np\n",
        "import torch\n",
        "import torch.nn as nn\n",
        "import torch.optim as optim\n",
        "\n",
        "# load the dataset, split into input (X) and output (y) variables\n",
        "dataset = np.genfromtxt('/content/nameEmbedding.csv', delimiter=',',skip_header=1)\n",
        "X = dataset[:,0:26]\n",
        "y = dataset[:,26]\n",
        "\n",
        "X = torch.tensor(X, dtype=torch.float32)\n",
        "y = torch.tensor(y, dtype=torch.float32).reshape(-1, 1)\n",
        "\n",
        "# define the model\n",
        "model = nn.Sequential(\n",
        "    nn.Linear(26, 12),\n",
        "    nn.ReLU(),\n",
        "    nn.Linear(12, 8),\n",
        "    nn.ReLU(),\n",
        "    nn.Linear(8, 1),\n",
        "    nn.Sigmoid()\n",
        ")\n",
        "print(model)\n",
        "\n",
        "# train the model\n",
        "loss_fn   = nn.BCELoss()  # binary cross entropy\n",
        "optimizer = optim.Adam(model.parameters(), lr=0.001)\n",
        "\n",
        "n_epochs = 100\n",
        "batch_size = 10\n",
        "\n",
        "for epoch in range(n_epochs):\n",
        "    for i in range(0, len(X), batch_size):\n",
        "        Xbatch = X[i:i+batch_size]\n",
        "        y_pred = model(Xbatch)\n",
        "        ybatch = y[i:i+batch_size]\n",
        "        loss = loss_fn(y_pred, ybatch)\n",
        "        optimizer.zero_grad()\n",
        "        loss.backward()\n",
        "        optimizer.step()\n",
        "    print(f'Finished epoch {epoch}, latest loss {loss}')\n",
        "\n",
        "# compute accuracy (no_grad is optional)\n"
      ],
      "metadata": {
        "id": "2MksPTWtXDaT"
      },
      "execution_count": null,
      "outputs": []
    },
    {
      "cell_type": "code",
      "source": [
        "def predictGenderFromName(strName):\n",
        "  y_pred=model(torch.tensor(count_letters(strName),dtype=torch.float32))\n",
        "\n",
        "  if y_pred >0.5:\n",
        "      print('Male')\n",
        "  else:\n",
        "      print('Female')\n"
      ],
      "metadata": {
        "id": "nFwK5pS9fNoo"
      },
      "execution_count": 47,
      "outputs": []
    },
    {
      "cell_type": "code",
      "source": [
        "predictGenderFromName('Kamlesh')\n",
        "predictGenderFromName('Vidhya')\n",
        "predictGenderFromName('Paramita')\n",
        "predictGenderFromName('Mounika')\n",
        "predictGenderFromName('Ashwin')\n",
        "predictGenderFromName('Balachandar')\n",
        "predictGenderFromName('Sunil')"
      ],
      "metadata": {
        "id": "PAecWGish8Gy"
      },
      "execution_count": null,
      "outputs": []
    },
    {
      "cell_type": "code",
      "source": [
        "\n",
        "#wrong predictions increase epoch to 1000 train the model again and verify\n",
        "print('if Wrong , Increase epoch to 1000 and see results')\n",
        "predictGenderFromName('Sangeetha')\n",
        "predictGenderFromName('Supriya')\n"
      ],
      "metadata": {
        "id": "0saurx4MjAPf"
      },
      "execution_count": null,
      "outputs": []
    }
  ]
}