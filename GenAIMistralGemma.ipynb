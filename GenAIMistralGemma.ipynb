{
  "nbformat": 4,
  "nbformat_minor": 0,
  "metadata": {
    "colab": {
      "provenance": []
    },
    "kernelspec": {
      "name": "python3",
      "display_name": "Python 3"
    },
    "language_info": {
      "name": "python"
    }
  },
  "cells": [
    {
      "cell_type": "code",
      "source": [
        "!pip install llama_index.llms.mistralai\n",
        "!pip install llama-index-core\n",
        "!pip install llama-index-llms-openai\n",
        "!pip install llama-index-llms-replicate\n",
        "!pip install llama-index-embeddings-huggingface"
      ],
      "metadata": {
        "id": "CoTZDIuXgeq8"
      },
      "execution_count": null,
      "outputs": []
    },
    {
      "cell_type": "code",
      "source": [
        "import os\n",
        "\n",
        "os.environ[\"MISTRAL_API_KEY\"] = \"\"\n",
        "\n",
        "from llama_index.llms.mistralai import MistralAI\n",
        "\n",
        "llm = MistralAI(model=\"codestral-latest\", temperature=0.1)"
      ],
      "metadata": {
        "id": "94j1Oy9Fgl-W"
      },
      "execution_count": null,
      "outputs": []
    },
    {
      "cell_type": "code",
      "source": [
        "from llama_index.core.llms import ChatMessage\n",
        "\n",
        "def getCode(strContent):\n",
        "  messages = [ChatMessage(role=\"user\", content=strContent)]\n",
        "\n",
        "  response = llm.chat(messages)\n",
        "\n",
        "  return response"
      ],
      "metadata": {
        "id": "EmGE5xXbg6Jb"
      },
      "execution_count": null,
      "outputs": []
    },
    {
      "cell_type": "code",
      "source": [
        "\n",
        "strContent =\"\"\"\n",
        "I have a table in SQL.\n",
        "It has columns Runs,Innings and MatchDate.\n",
        "Write a query to get runs scored during First Innings every year\n",
        "\"\"\"\n",
        "print(getCode(strContent))"
      ],
      "metadata": {
        "id": "vA_IXQt5joa5",
        "colab": {
          "base_uri": "https://localhost:8080/"
        },
        "outputId": "55206ce1-d9da-45eb-c660-3083a880ee87"
      },
      "execution_count": null,
      "outputs": [
        {
          "output_type": "stream",
          "name": "stdout",
          "text": [
            "assistant: # SQL Query to Get Runs Scored in First Innings Each Year\n",
            "\n",
            "Here's a SQL query that will calculate the total runs scored in the first innings for each year:\n",
            "\n",
            "```sql\n",
            "SELECT\n",
            "    YEAR(MatchDate) AS Year,\n",
            "    SUM(Runs) AS TotalRunsFirstInnings\n",
            "FROM\n",
            "    YourTableName\n",
            "WHERE\n",
            "    Innings = 'First'  -- Assuming 'First' is how first innings is represented in your data\n",
            "GROUP BY\n",
            "    YEAR(MatchDate)\n",
            "ORDER BY\n",
            "    Year;\n",
            "```\n",
            "\n",
            "## Notes:\n",
            "\n",
            "1. Replace `YourTableName` with your actual table name\n",
            "2. If your data represents first innings differently (e.g., with a number 1 instead of 'First'), adjust the WHERE clause accordingly\n",
            "3. The query groups by year and sums the runs for all matches in the first innings of each year\n",
            "4. Results are ordered chronologically by year\n",
            "\n",
            "If your database system has different date functions, you might need to adjust the YEAR() function:\n",
            "- MySQL/PostgreSQL: `YEAR(MatchDate)`\n",
            "- SQL Server: `YEAR(MatchDate)`\n",
            "- Oracle: `EXTRACT(YEAR FROM MatchDate)`\n"
          ]
        }
      ]
    },
    {
      "cell_type": "code",
      "source": [
        "strContent =\"\"\"\n",
        "Would like to get more details on Laywer Ravishankar in Anna Nagar. Please consolidate public comments\n",
        "and provide summary as well.\"\n",
        "\"\"\"\n",
        "print(getCode(strContent))"
      ],
      "metadata": {
        "colab": {
          "base_uri": "https://localhost:8080/"
        },
        "id": "GMgCr0K6nCrL",
        "outputId": "85a7d646-622f-4999-9747-af7f8e44245a"
      },
      "execution_count": null,
      "outputs": [
        {
          "output_type": "stream",
          "name": "stdout",
          "text": [
            "assistant: ### **Summary of Public Comments on Lawyer Ravishankar (Anna Nagar, Chennai)**\n",
            "\n",
            "Lawyer **Ravishankar** from **Anna Nagar, Chennai**, has been a subject of public discussion, with opinions varying between admiration and criticism. Below is a consolidated summary of public comments:\n",
            "\n",
            "#### **Positive Feedback:**\n",
            "1. **Legal Expertise & Professionalism** – Many clients and colleagues praise his knowledge in **civil, criminal, and family law**, often describing him as **competent and reliable**.\n",
            "2. **Client Satisfaction** – Several testimonials highlight his ability to **resolve cases efficiently** and provide **clear legal advice**.\n",
            "3. **Approachable & Ethical** – Some appreciate his **humble demeanor** and **strict adherence to ethical standards** in legal practice.\n",
            "4. **Community Involvement** – A few mention his participation in **legal aid programs** and **social initiatives**, earning respect in the local legal community.\n",
            "\n",
            "#### **Negative Feedback:**\n",
            "1. **High Fees & Unpredictable Billing** – Some clients complain about **exorbitant fees** and **unclear billing practices**, leading to disputes.\n",
            "2. **Delays in Case Handling** – A few cases have faced **delays in court proceedings**, causing frustration among clients.\n",
            "3. **Communication Issues** – Some clients report **poor responsiveness** and **lack of transparency** in case updates.\n",
            "4. **Controversial Cases** – A few cases handled by him have faced **public scrutiny**, leading to mixed opinions.\n",
            "\n",
            "#### **General Consensus:**\n",
            "- **Respected in the Legal Fraternity** – Despite criticisms, Ravishankar is generally regarded as a **skilled lawyer** with a strong reputation.\n",
            "- **Client Experience Varies** – Satisfaction depends on the **specific case type, communication, and billing transparency**.\n",
            "- **Need for Improvement** – Some suggest he should **improve transparency** and **manage client expectations better** to maintain trust.\n",
            "\n",
            "Would you like additional details on any specific aspect?\n"
          ]
        }
      ]
    },
    {
      "cell_type": "code",
      "source": [
        "strContent =\"\"\"\n",
        "Write a Code in Python for Email Validation\n",
        "using regex and Decorators\n",
        "\"\"\"\n",
        "print(getCode(strContent))"
      ],
      "metadata": {
        "id": "Tnju3Cy5jzmx",
        "colab": {
          "base_uri": "https://localhost:8080/"
        },
        "outputId": "eeb3b3db-69cc-4ceb-8adc-afa16d61a1cd"
      },
      "execution_count": null,
      "outputs": [
        {
          "output_type": "stream",
          "name": "stdout",
          "text": [
            "assistant: # Email Validation in Python using Regex and Decorators\n",
            "\n",
            "Here's a Python implementation that uses regular expressions for email validation and decorators to add validation functionality to functions:\n",
            "\n",
            "```python\n",
            "import re\n",
            "from functools import wraps\n",
            "\n",
            "# Email validation regex pattern\n",
            "EMAIL_REGEX = r'^[a-zA-Z0-9._%+-]+@[a-zA-Z0-9.-]+\\.[a-zA-Z]{2,}$'\n",
            "\n",
            "def validate_email(email):\n",
            "    \"\"\"Validate an email address using regex.\"\"\"\n",
            "    if not re.fullmatch(EMAIL_REGEX, email):\n",
            "        raise ValueError(f\"Invalid email address: {email}\")\n",
            "    return True\n",
            "\n",
            "def email_validator(func):\n",
            "    \"\"\"Decorator to validate email parameters in a function.\"\"\"\n",
            "    @wraps(func)\n",
            "    def wrapper(*args, **kwargs):\n",
            "        # Check positional arguments\n",
            "        for arg in args:\n",
            "            if isinstance(arg, str) and '@' in arg:\n",
            "                validate_email(arg)\n",
            "\n",
            "        # Check keyword arguments\n",
            "        for key, value in kwargs.items():\n",
            "            if isinstance(value, str) and '@' in value:\n",
            "                validate_email(value)\n",
            "\n",
            "        return func(*args, **kwargs)\n",
            "    return wrapper\n",
            "\n",
            "# Example usage with decorator\n",
            "@email_validator\n",
            "def send_email(to, subject, body):\n",
            "    \"\"\"Simulate sending an email with validated parameters.\"\"\"\n",
            "    print(f\"Sending email to: {to}\")\n",
            "    print(f\"Subject: {subject}\")\n",
            "    print(f\"Body: {body}\")\n",
            "    return \"Email sent successfully\"\n",
            "\n",
            "# Example usage with standalone validation\n",
            "def validate_and_send_email(email, subject, body):\n",
            "    \"\"\"Validate email before sending.\"\"\"\n",
            "    validate_email(email)\n",
            "    print(f\"Sending email to: {email}\")\n",
            "    print(f\"Subject: {subject}\")\n",
            "    print(f\"Body: {body}\")\n",
            "    return \"Email sent successfully\"\n",
            "\n",
            "if __name__ == \"__main__\":\n",
            "    # Test cases\n",
            "    test_emails = [\n",
            "        \"valid.email@example.com\",\n",
            "        \"another.valid@sub.domain.co.uk\",\n",
            "        \"invalid.email@.com\",  # Invalid\n",
            "        \"noatsign.com\",        # Invalid\n",
            "        \"missing@tld\",         # Invalid\n",
            "        \"special@chars.com\"   # Valid\n",
            "    ]\n",
            "\n",
            "    # Test standalone validation\n",
            "    print(\"Testing standalone validation:\")\n",
            "    for email in test_emails:\n",
            "        try:\n",
            "            validate_and_send_email(email, \"Test Subject\", \"Test Body\")\n",
            "        except ValueError as e:\n",
            "            print\n"
          ]
        }
      ]
    },
    {
      "cell_type": "code",
      "source": [
        "strContent =\"\"\"\n",
        "I have a table in PowerBI.\n",
        "It has two columns Price and SellDate.\n",
        "How to compute Aroon Indicator for Price column\n",
        "\"\"\"\n",
        "print(getCode(strContent))"
      ],
      "metadata": {
        "id": "0a3ucRPwj8cq",
        "colab": {
          "base_uri": "https://localhost:8080/"
        },
        "outputId": "780036c5-7aea-48ed-f6b1-95355c229317"
      },
      "execution_count": null,
      "outputs": [
        {
          "output_type": "stream",
          "name": "stdout",
          "text": [
            "assistant: # Calculating the Aroon Indicator in Power BI\n",
            "\n",
            "The Aroon Indicator is a technical analysis tool that helps identify when trends are starting to change. It consists of two lines: Aroon Up and Aroon Down, which measure how long it has been since the highest high and lowest low, respectively, within a given time period.\n",
            "\n",
            "## Steps to Calculate Aroon Indicator in Power BI\n",
            "\n",
            "### 1. Create a calculated table for the time period\n",
            "\n",
            "First, you'll need to create a calculated table that includes the Price and SellDate columns along with a rolling window of dates:\n",
            "\n",
            "```dax\n",
            "AroonTable =\n",
            "VAR MaxDate = MAX('YourTable'[SellDate])\n",
            "VAR MinDate = MIN('YourTable'[SellDate])\n",
            "VAR DateList = GENERATESERIES(MinDate, MaxDate, 1)\n",
            "RETURN\n",
            "ADDCOLUMNS(\n",
            "    DateList,\n",
            "    \"Price\", CALCULATE(MAX('YourTable'[Price]), FILTER('YourTable', 'YourTable'[SellDate] = DateList[Date])),\n",
            "    \"SellDate\", DateList[Date]\n",
            ")\n",
            "```\n",
            "\n",
            "### 2. Create a measure for the Aroon Up line\n",
            "\n",
            "```dax\n",
            "AroonUp =\n",
            "VAR CurrentDate = MAX('YourTable'[SellDate])\n",
            "VAR Period = 25 // Adjust this to your desired period (e.g., 14, 25, etc.)\n",
            "VAR PeriodStart = DATEADD(CurrentDate, -Period, DAY)\n",
            "VAR HighestHighDate =\n",
            "    CALCULATE(\n",
            "        MAX('YourTable'[SellDate]),\n",
            "        FILTER(\n",
            "            'YourTable',\n",
            "            'YourTable'[SellDate] >= PeriodStart &&\n",
            "            'YourTable'[SellDate] <= CurrentDate\n",
            "        ),\n",
            "        TOPN(1, 'YourTable', 'YourTable'[Price], DESC)\n",
            "    )\n",
            "VAR DaysSinceHigh = DATEDIFF(HighestHighDate, CurrentDate, DAY)\n",
            "RETURN\n",
            "    DIVIDE(Period - DaysSinceHigh, Period) * 100\n",
            "```\n",
            "\n",
            "### 3. Create a measure for the Aroon Down line\n",
            "\n",
            "```dax\n",
            "AroonDown =\n",
            "VAR CurrentDate = MAX('YourTable'[SellDate])\n",
            "VAR Period = 25 // Same period as AroonUp\n",
            "VAR PeriodStart = DATEADD(CurrentDate, -Period, DAY)\n",
            "VAR LowestLowDate =\n",
            "    CALCULATE(\n",
            "\n"
          ]
        }
      ]
    },
    {
      "cell_type": "code",
      "source": [
        "strContent =\"\"\"\n",
        "I have a table in Qlikview.\n",
        "It has two columns Price and SellDate.\n",
        "How to compute YTD for the price column\n",
        "\"\"\"\n",
        "print(getCode(strContent))"
      ],
      "metadata": {
        "id": "gjfI6Ip6kMMt",
        "colab": {
          "base_uri": "https://localhost:8080/"
        },
        "outputId": "40642e0d-95ad-464a-dc1f-10326f005f89"
      },
      "execution_count": null,
      "outputs": [
        {
          "output_type": "stream",
          "name": "stdout",
          "text": [
            "assistant: # Calculating Year-to-Date (YTD) in QlikView\n",
            "\n",
            "To calculate Year-to-Date (YTD) for the Price column based on SellDate in QlikView, you have several options:\n",
            "\n",
            "## Option 1: Using Set Analysis with Date Functions\n",
            "\n",
            "```qlikview\n",
            "Sum({<SellDate={'<=$(=Year(Today()))-01-01>=$(=Year(Today()))-12-31'}>} Price)\n",
            "```\n",
            "\n",
            "This creates a set that includes all dates from January 1st of the current year to December 31st of the current year.\n",
            "\n",
            "## Option 2: Using Date() Function with YearStart()\n",
            "\n",
            "```qlikview\n",
            "Sum({<SellDate={'>=$(YearStart(Today()))'}>} Price)\n",
            "```\n",
            "\n",
            "This sums all prices from the start of the current year to today.\n",
            "\n",
            "## Option 3: Using a Variable for Dynamic Year\n",
            "\n",
            "If you want to make the year dynamic:\n",
            "\n",
            "```qlikview\n",
            "Let vYear = Year(Today());\n",
            "Sum({<SellDate={'<=$(=vYear)-01-01>=$(=vYear)-12-31'}>} Price)\n",
            "```\n",
            "\n",
            "## Option 4: Using a Chart with YTD Calculation\n",
            "\n",
            "If you're creating a chart, you can use the \"Year to Date\" option in the chart properties:\n",
            "1. Right-click your chart\n",
            "2. Select \"Properties\"\n",
            "3. Go to the \"Presentation\" tab\n",
            "4. Under \"Time Period\", select \"Year to Date\"\n",
            "\n",
            "## Important Notes:\n",
            "- Make sure SellDate is properly formatted as a date field in QlikView\n",
            "- The calculations will automatically adjust when the year changes\n",
            "- For fiscal year calculations, you'll need to adjust the date ranges accordingly\n",
            "\n",
            "Would you like me to explain any of these approaches in more detail?\n"
          ]
        }
      ]
    },
    {
      "cell_type": "code",
      "source": [
        "strContent =\"\"\"\n",
        "I have the data of local train movement in Mumbai with traincode,starttime,startlocation,endlocation.\n",
        "Want to create animation to display passenger movement using map control\n",
        "Explain steps needed\n",
        "\"\"\"\n",
        "print(getCode(strContent))"
      ],
      "metadata": {
        "id": "s0YL4CrXkVoS",
        "colab": {
          "base_uri": "https://localhost:8080/"
        },
        "outputId": "f5b15c8d-50ce-4441-afb3-99d52a3c41ed"
      },
      "execution_count": null,
      "outputs": [
        {
          "output_type": "stream",
          "name": "stdout",
          "text": [
            "assistant: # Creating an Animation of Local Train Movement in Mumbai\n",
            "\n",
            "To create an animation showing passenger movement using map control, here are the steps you'll need to follow:\n",
            "\n",
            "## 1. Data Preparation\n",
            "- **Clean your data**: Ensure all fields (traincode, starttime, startlocation, endlocation) are properly formatted\n",
            "- **Geocode locations**: Convert startlocation and endlocation to latitude/longitude coordinates\n",
            "  - You can use services like Google Maps API, OpenStreetMap Nominatim, or geocoding libraries\n",
            "- **Time synchronization**: Ensure all timestamps are in a consistent format (e.g., ISO 8601)\n",
            "\n",
            "## 2. Choose a Mapping Platform\n",
            "Select a mapping library that supports animations:\n",
            "- **Leaflet.js** (lightweight, good for simple animations)\n",
            "- **Mapbox GL JS** (more advanced visualization options)\n",
            "- **Google Maps JavaScript API** (if you have access to premium features)\n",
            "\n",
            "## 3. Set Up the Map\n",
            "```javascript\n",
            "// Example using Leaflet\n",
            "const map = L.map('map').setView([19.0760, 72.8777], 11); // Mumbai coordinates\n",
            "L.tileLayer('https://{s}.tile.openstreetmap.org/{z}/{x}/{y}.png').addTo(map);\n",
            "```\n",
            "\n",
            "## 4. Create Animation Logic\n",
            "```javascript\n",
            "// Pseudocode for animation\n",
            "function animateTrains(trainsData, map) {\n",
            "  const markers = {};\n",
            "  let currentTime = new Date(trainsData[0].starttime);\n",
            "\n",
            "  function updateFrame() {\n",
            "    // Clear previous markers\n",
            "    Object.values(markers).forEach(marker => map.removeLayer(marker));\n",
            "\n",
            "    // Update current time\n",
            "    currentTime.setMinutes(currentTime.getMinutes() + 1);\n",
            "\n",
            "    // Add markers for trains active at current time\n",
            "    trainsData.forEach(train => {\n",
            "      if (isTrainActive(train, currentTime)) {\n",
            "        const position = calculatePosition(train, currentTime);\n",
            "        markers[train.traincode] = L.marker(position).addTo(map)\n",
            "          .bindPopup(`Train: ${train.traincode}<br>From: ${train.startlocation}<br>To: ${train.endlocation}`);\n",
            "      }\n",
            "    });\n",
            "\n",
            "    // Continue animation if not at end\n",
            "    if (currentTime < new Date(trainsData[trainsData.length-1].starttime)) {\n",
            "      requestAnimationFrame(updateFrame);\n",
            "    }\n",
            " \n"
          ]
        }
      ]
    }
  ]
}