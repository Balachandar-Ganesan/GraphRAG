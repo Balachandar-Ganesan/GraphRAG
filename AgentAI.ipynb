{
  "nbformat": 4,
  "nbformat_minor": 0,
  "metadata": {
    "colab": {
      "provenance": [],
      "authorship_tag": "ABX9TyOP0YE2dOjBdvMzxJWT6NGW",
      "include_colab_link": true
    },
    "kernelspec": {
      "name": "python3",
      "display_name": "Python 3"
    },
    "language_info": {
      "name": "python"
    }
  },
  "cells": [
    {
      "cell_type": "markdown",
      "metadata": {
        "id": "view-in-github",
        "colab_type": "text"
      },
      "source": [
        "<a href=\"https://colab.research.google.com/github/Balachandar-Ganesan/GraphRAG/blob/main/AgentAI.ipynb\" target=\"_parent\"><img src=\"https://colab.research.google.com/assets/colab-badge.svg\" alt=\"Open In Colab\"/></a>"
      ]
    },
    {
      "cell_type": "code",
      "execution_count": null,
      "metadata": {
        "id": "2vjD5e2z3ryO"
      },
      "outputs": [],
      "source": [
        "!pip install crewAI"
      ]
    },
    {
      "cell_type": "code",
      "source": [
        "!pip install langchain_openai"
      ],
      "metadata": {
        "id": "_a7E9WFzKpuV"
      },
      "execution_count": null,
      "outputs": []
    },
    {
      "cell_type": "code",
      "source": [
        "from google.colab import userdata\n",
        "import os\n",
        "openai_api_key = userdata.get('OPENAI_API_KEY')\n",
        "os.environ[\"OPENAI_API_KEY\"] = openai_api_key\n",
        "    # Then set it for the OpenAI library\n",
        "import openai\n",
        "#openai.api_key = openai_api_key\n",
        "client = openai.OpenAI(api_key=openai_api_key)"
      ],
      "metadata": {
        "id": "_UyApWt24_tH"
      },
      "execution_count": 5,
      "outputs": []
    },
    {
      "cell_type": "code",
      "source": [
        "from crewai import Agent\n",
        "\n",
        "# Define a basic agent\n",
        "general_agent = Agent(\n",
        "    role='Movie  Agent',\n",
        "    goal='Find Theaters to watch Movies requested by user with description',\n",
        "    backstory='Need to find theaters where movies are screened.You can access information from https://in.bookmyshow.com/ and https://ticketnew.com/movies for schedule'\n",
        ")"
      ],
      "metadata": {
        "id": "4kvxzjUn38Q9"
      },
      "execution_count": 5,
      "outputs": []
    },
    {
      "cell_type": "code",
      "source": [
        "from crewai import Task\n",
        "\n",
        "# Define a task for the agent\n",
        "planning_task = Task(\n",
        "    description='Find Theaters Near Cognizant Siruseri Chennai office where Tamil Movies are running currently',\n",
        "    expected_output='List of Theaters and address with Movie Name,Next earliest Date where movie can be watched',\n",
        "    agent=general_agent\n",
        ")"
      ],
      "metadata": {
        "id": "5nY4rcC-4DVP"
      },
      "execution_count": 6,
      "outputs": []
    },
    {
      "cell_type": "code",
      "source": [
        "from crewai import Crew, Process\n",
        "from langchain_openai import ChatOpenAI\n",
        "# Assemble the crew\n",
        "crew = Crew(\n",
        "    agents=[general_agent],\n",
        "    tasks=[planning_task],\n",
        "    process=Process.sequential,\n",
        "    verbose=True\n",
        ")\n",
        "llm = ChatOpenAI(model=\"gpt-4-turbo-preview\")\n"
      ],
      "metadata": {
        "id": "RUykIWF_4lOf"
      },
      "execution_count": 7,
      "outputs": []
    },
    {
      "cell_type": "code",
      "source": [],
      "metadata": {
        "id": "o4NlUri6jbSj"
      },
      "execution_count": null,
      "outputs": []
    },
    {
      "cell_type": "code",
      "source": [
        "result = crew.kickoff()\n",
        "\n",
        "# Display the final output\n",
        "print(result)"
      ],
      "metadata": {
        "id": "YZM1r-n54olO"
      },
      "execution_count": null,
      "outputs": []
    },
    {
      "cell_type": "code",
      "source": [
        "!pip install 'crewai[tools]' tavily-python"
      ],
      "metadata": {
        "id": "4MkZYPmujn3W"
      },
      "execution_count": null,
      "outputs": []
    },
    {
      "cell_type": "code",
      "source": [
        "from crewai_tools import TavilySearchTool\n",
        "\n",
        "    # To search only on specific domains\n",
        "tavily_tool_include = TavilySearchTool(\n",
        "        include_domains=[\"https://in.bookmyshow.com/,https://ticketnew.com/movies/chennai\"]\n",
        "    )\n",
        "\n",
        "    # To exclude specific domains from the search\n",
        "tavily_tool_exclude = TavilySearchTool(\n",
        "        exclude_domains=[\"spam-site.net\", \"old-blog.info\"]\n",
        "    )"
      ],
      "metadata": {
        "id": "-KnfbtUgmDax"
      },
      "execution_count": 7,
      "outputs": []
    },
    {
      "cell_type": "code",
      "source": [
        "from crewai import Agent, Task, Crew\n",
        "import os\n",
        "os.environ[\"TAVILY_API_KEY\"] = \"\"\n",
        "MovieAgent = Agent(\n",
        "        role='Movie  Agent',\n",
        "        goal='Find Theaters to watch Movies requested by user with description.',\n",
        "        backstory='Need to find theaters where movies are screened.You can access information from https://in.bookmyshow.com/ and https://ticketnew.com/movies for schedule.',\n",
        "        tools=[tavily_tool_include], # Use the tool configured with include_domains\n",
        "        verbose=True\n",
        "    )\n",
        "\n",
        "SearchTask = Task(\n",
        "        description='Find Theaters Near Cognizant Siruseri Chennai office where Tamil Movies are running currently.',\n",
        "        expected_output='List of Theaters and address with Movie Name,Review and Rating if possible ,Next earliest Date where movie can be watched in a CSV format',\n",
        "        agent=MovieAgent\n",
        "    )\n",
        "\n",
        "crew = Crew(\n",
        "        agents=[MovieAgent],\n",
        "        tasks=[SearchTask],\n",
        "        verbose=True\n",
        "    )\n",
        "\n",
        "result = crew.kickoff()\n",
        "print(result)"
      ],
      "metadata": {
        "id": "8ppt9notmRs3"
      },
      "execution_count": null,
      "outputs": []
    }
  ]
}