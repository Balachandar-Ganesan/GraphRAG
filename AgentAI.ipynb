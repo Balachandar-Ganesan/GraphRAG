{
  "nbformat": 4,
  "nbformat_minor": 0,
  "metadata": {
    "colab": {
      "provenance": []
    },
    "kernelspec": {
      "name": "python3",
      "display_name": "Python 3"
    },
    "language_info": {
      "name": "python"
    }
  },
  "cells": [
    {
      "cell_type": "code",
      "execution_count": null,
      "metadata": {
        "id": "2vjD5e2z3ryO"
      },
      "outputs": [],
      "source": [
        "!pip install crewAI"
      ]
    },
    {
      "cell_type": "code",
      "source": [
        "!pip install langchain_openai"
      ],
      "metadata": {
        "id": "_a7E9WFzKpuV"
      },
      "execution_count": null,
      "outputs": []
    },
    {
      "cell_type": "code",
      "source": [
        "from google.colab import userdata\n",
        "import os\n",
        "openai_api_key = userdata.get('OPENAI_API_KEY')\n",
        "os.environ[\"OPENAI_API_KEY\"] = openai_api_key\n",
        "    # Then set it for the OpenAI library\n",
        "import openai\n",
        "#openai.api_key = openai_api_key\n",
        "client = openai.OpenAI(api_key=openai_api_key)"
      ],
      "metadata": {
        "id": "_UyApWt24_tH"
      },
      "execution_count": null,
      "outputs": []
    },
    {
      "cell_type": "code",
      "source": [
        "from crewai import Agent\n",
        "\n",
        "# Define a basic agent\n",
        "general_agent = Agent(\n",
        "    role='Movie  Agent',\n",
        "    goal='Find Theaters to watch Movies requested by user with description',\n",
        "    backstory='Need to find theaters where movies are screened.You can access information from https://in.bookmyshow.com/ and https://ticketnew.com/movies for schedule'\n",
        ")"
      ],
      "metadata": {
        "id": "4kvxzjUn38Q9"
      },
      "execution_count": null,
      "outputs": []
    },
    {
      "cell_type": "code",
      "source": [
        "from crewai import Task\n",
        "\n",
        "# Define a task for the agent\n",
        "planning_task = Task(\n",
        "    description='Find Theaters Near Cognizant Siruseri Chennai office where Tamil Movies are running currently',\n",
        "    expected_output='List of Theaters and address with Movie Name,Next earliest Date where movie can be watched',\n",
        "    agent=general_agent\n",
        ")"
      ],
      "metadata": {
        "id": "5nY4rcC-4DVP"
      },
      "execution_count": null,
      "outputs": []
    },
    {
      "cell_type": "code",
      "source": [
        "from crewai import Crew, Process\n",
        "from langchain_openai import ChatOpenAI\n",
        "# Assemble the crew\n",
        "crew = Crew(\n",
        "    agents=[general_agent],\n",
        "    tasks=[planning_task],\n",
        "    process=Process.sequential,\n",
        "    verbose=True\n",
        ")\n",
        "llm = ChatOpenAI(model=\"gpt-4-turbo-preview\")\n"
      ],
      "metadata": {
        "id": "RUykIWF_4lOf"
      },
      "execution_count": null,
      "outputs": []
    },
    {
      "cell_type": "code",
      "source": [],
      "metadata": {
        "id": "o4NlUri6jbSj"
      },
      "execution_count": null,
      "outputs": []
    },
    {
      "cell_type": "code",
      "source": [
        "result = crew.kickoff()\n",
        "\n",
        "# Display the final output\n",
        "print(result)"
      ],
      "metadata": {
        "id": "YZM1r-n54olO"
      },
      "execution_count": null,
      "outputs": []
    },
    {
      "cell_type": "code",
      "source": [
        "!pip install 'crewai[tools]' tavily-python"
      ],
      "metadata": {
        "id": "4MkZYPmujn3W"
      },
      "execution_count": null,
      "outputs": []
    },
    {
      "cell_type": "code",
      "source": [
        "from crewai_tools import TavilySearchTool\n",
        "\n",
        "    # To search only on specific domains\n",
        "tavily_tool_include = TavilySearchTool(\n",
        "        include_domains=[\"https://in.bookmyshow.com/,https://ticketnew.com/movies/chennai\"]\n",
        "    )\n",
        "\n",
        "    # To exclude specific domains from the search\n",
        "tavily_tool_exclude = TavilySearchTool(\n",
        "        exclude_domains=[\"spam-site.net\", \"old-blog.info\"]\n",
        "    )"
      ],
      "metadata": {
        "id": "-KnfbtUgmDax"
      },
      "execution_count": null,
      "outputs": []
    },
    {
      "cell_type": "code",
      "source": [
        "from crewai import Agent, Task, Crew\n",
        "from crewai_tools import TavilySearchTool\n",
        "import os\n",
        "\n",
        "os.environ[\"TAVILY_API_KEY\"] = \"\"\n",
        "\n",
        "\n",
        "    # To search only on specific domains\n",
        "tavily_tool_include = TavilySearchTool(\n",
        "        include_domains=[\"https://in.bookmyshow.com/,https://ticketnew.com/movies/chennai\"]\n",
        "    )\n",
        "\n",
        "    # To exclude specific domains from the search\n",
        "tavily_tool_exclude = TavilySearchTool(\n",
        "        exclude_domains=[\"spam-site.net\", \"old-blog.info\"]\n",
        "    )\n",
        "\n",
        "MovieAgent = Agent(\n",
        "        role='Theaters Researcher',\n",
        "        goal='Find Currently Running Movies in Theaters.',\n",
        "        backstory='Need to find theaters where movies are screened.You can access information from https://in.bookmyshow.com/ and https://ticketnew.com/movies for schedule.',\n",
        "        tools=[tavily_tool_include], # Use the tool configured with include_domains\n",
        "        verbose=True\n",
        "    )\n",
        "\n",
        "SearchTask = Task(\n",
        "        description='Find Theaters Near Cognizant Siruseri Chennai office where Tamil Movies are running currently.',\n",
        "        expected_output='List of Theaters and address with Movie Name,Review and Rating if possible ,Next earliest Date where movie can be watched in a CSV format',\n",
        "        agent=MovieAgent\n",
        "    )\n",
        "\n",
        "crew = Crew(\n",
        "        agents=[MovieAgent],\n",
        "        tasks=[SearchTask],\n",
        "        verbose=False\n",
        "    )\n",
        "result = crew.kickoff()\n",
        "print(result)"
      ],
      "metadata": {
        "id": "8ppt9notmRs3"
      },
      "execution_count": null,
      "outputs": []
    },
    {
      "cell_type": "code",
      "source": [
        "!pip install autogen\n",
        "!pip install autogen-agentchat~=0.2\n",
        "!pip install pyautogen"
      ],
      "metadata": {
        "id": "mG7P6o3yi0ED"
      },
      "execution_count": null,
      "outputs": []
    },
    {
      "cell_type": "code",
      "source": [
        "import os\n",
        "import autogen\n",
        "import autogen_core\n",
        "import autogen_agentchat\n",
        "from autogen import AssistantAgent, UserProxyAgent\n",
        "\n",
        "llm_config = {\"model\": \"gpt-4\", \"api_key\": os.environ[\"OPENAI_API_KEY\"]}\n",
        "assistant = AssistantAgent(\"assistant\", llm_config=llm_config)\n",
        "\n",
        "user_proxy = UserProxyAgent(\n",
        "    \"user_proxy\", code_execution_config={\"executor\": autogen.coding.LocalCommandLineCodeExecutor(work_dir=\"coding\")}\n",
        ")\n",
        "\n",
        "# Start the chat\n",
        "user_proxy.initiate_chat(\n",
        "    assistant,\n",
        "    message=\"Find Theaters Near Cognizant Siruseri Chennai office where Tamil Movies are running currently.\",\n",
        ")"
      ],
      "metadata": {
        "id": "U2im4aQGi2b8"
      },
      "execution_count": null,
      "outputs": []
    },
    {
      "cell_type": "code",
      "source": [
        "from crewai import Agent, Task, Crew\n",
        "from crewai_tools import ScrapeElementFromWebsiteTool\n"
      ],
      "metadata": {
        "id": "-OzGaXEVToxM"
      },
      "execution_count": null,
      "outputs": []
    },
    {
      "cell_type": "code",
      "source": [
        "element_scraper = ScrapeElementFromWebsiteTool()"
      ],
      "metadata": {
        "id": "e87togrEUb7_"
      },
      "execution_count": null,
      "outputs": []
    },
    {
      "cell_type": "code",
      "source": [
        "data_extractor = Agent(\n",
        "    role='Data Extractor',\n",
        "    goal='Extract movie names,theater name, theater address',\n",
        "    backstory='Focused expert who knows how to retrieve precise data from HTML.',\n",
        "    tools=[element_scraper]\n",
        ")"
      ],
      "metadata": {
        "id": "9w90c-OVUoZK"
      },
      "execution_count": null,
      "outputs": []
    },
    {
      "cell_type": "code",
      "source": [
        "data_extraction_task = Task(\n",
        "    description=(\n",
        "        \"1. Visit the page: https://ticketnew.com/movies/chennai\"\n",
        "        \"2. Search for <h5> and </h5> and extract the text between it and this most likely the movie title\"\n",
        "        \"3. Extract URLS like https://ticketnew.com/movies \"\n",
        "        \"4. Get the list of theaters and address from above\"\n",
        "        \"5. Share the information in bulletted list format\"\n",
        "    ),\n",
        "    expected_output=\"Movie Name,Theater Address.\",\n",
        "    agent=data_extractor,\n",
        ")"
      ],
      "metadata": {
        "id": "nAeUWhoKUSSA"
      },
      "execution_count": null,
      "outputs": []
    },
    {
      "cell_type": "code",
      "source": [
        "from crewai import Crew, Process\n",
        "\n",
        "# (Code to define agents and tasks goes here)\n",
        "\n",
        "my_crew = Crew(\n",
        "    agents=[data_extractor],\n",
        "    tasks=[data_extraction_task],\n",
        "    process=Process.sequential,\n",
        ")\n",
        "\n",
        "# Kick off the crew with inputs\n",
        "result = my_crew.kickoff(inputs={'news_url': 'https://ticketnew.com/movies/chennai'})\n",
        "\n",
        "# Print the result\n",
        "print(result)"
      ],
      "metadata": {
        "colab": {
          "base_uri": "https://localhost:8080/",
          "height": 369
        },
        "id": "M77SEMEvVPn1",
        "outputId": "d5814524-3437-415f-c2b9-2f7abaaaa95d"
      },
      "execution_count": null,
      "outputs": [
        {
          "output_type": "stream",
          "name": "stdout",
          "text": [
            "\u001b[93mMaximum iterations reached. Requesting final answer.\u001b[0m\n"
          ]
        },
        {
          "output_type": "display_data",
          "data": {
            "text/plain": [
              "\n",
              "\n"
            ],
            "text/html": [
              "<pre style=\"white-space:pre;overflow-x:auto;line-height:normal;font-family:Menlo,'DejaVu Sans Mono',consolas,'Courier New',monospace\">\n",
              "\n",
              "</pre>\n"
            ]
          },
          "metadata": {}
        },
        {
          "output_type": "display_data",
          "data": {
            "text/plain": [
              "\u001b[36m╭─\u001b[0m\u001b[36m──────────────────────────────────────────────\u001b[0m\u001b[36m \u001b[0m\u001b[1;36mExecution Traces\u001b[0m\u001b[36m \u001b[0m\u001b[36m───────────────────────────────────────────────\u001b[0m\u001b[36m─╮\u001b[0m\n",
              "\u001b[36m│\u001b[0m                                                                                                                 \u001b[36m│\u001b[0m\n",
              "\u001b[36m│\u001b[0m  \u001b[1;36m🔍 \u001b[0m\u001b[1;36mDetailed execution traces are available!\u001b[0m                                                                    \u001b[36m│\u001b[0m\n",
              "\u001b[36m│\u001b[0m                                                                                                                 \u001b[36m│\u001b[0m\n",
              "\u001b[36m│\u001b[0m  \u001b[37mView insights including:\u001b[0m                                                                                       \u001b[36m│\u001b[0m\n",
              "\u001b[36m│\u001b[0m  \u001b[94m  • Agent decision-making process\u001b[0m                                                                              \u001b[36m│\u001b[0m\n",
              "\u001b[36m│\u001b[0m  \u001b[94m  • Task execution flow and timing\u001b[0m                                                                             \u001b[36m│\u001b[0m\n",
              "\u001b[36m│\u001b[0m  \u001b[94m  • Tool usage details\u001b[0m                                                                                         \u001b[36m│\u001b[0m\n",
              "\u001b[36m│\u001b[0m                                                                                                                 \u001b[36m│\u001b[0m\n",
              "\u001b[36m╰─────────────────────────────────────────────────────────────────────────────────────────────────────────────────╯\u001b[0m\n"
            ],
            "text/html": [
              "<pre style=\"white-space:pre;overflow-x:auto;line-height:normal;font-family:Menlo,'DejaVu Sans Mono',consolas,'Courier New',monospace\"><span style=\"color: #008080; text-decoration-color: #008080\">╭─────────────────────────────────────────────── </span><span style=\"color: #008080; text-decoration-color: #008080; font-weight: bold\">Execution Traces</span><span style=\"color: #008080; text-decoration-color: #008080\"> ────────────────────────────────────────────────╮</span>\n",
              "<span style=\"color: #008080; text-decoration-color: #008080\">│</span>                                                                                                                 <span style=\"color: #008080; text-decoration-color: #008080\">│</span>\n",
              "<span style=\"color: #008080; text-decoration-color: #008080\">│</span>  <span style=\"color: #008080; text-decoration-color: #008080; font-weight: bold\">🔍 Detailed execution traces are available!</span>                                                                    <span style=\"color: #008080; text-decoration-color: #008080\">│</span>\n",
              "<span style=\"color: #008080; text-decoration-color: #008080\">│</span>                                                                                                                 <span style=\"color: #008080; text-decoration-color: #008080\">│</span>\n",
              "<span style=\"color: #008080; text-decoration-color: #008080\">│</span>  <span style=\"color: #c0c0c0; text-decoration-color: #c0c0c0\">View insights including:</span>                                                                                       <span style=\"color: #008080; text-decoration-color: #008080\">│</span>\n",
              "<span style=\"color: #008080; text-decoration-color: #008080\">│</span>  <span style=\"color: #0000ff; text-decoration-color: #0000ff\">  • Agent decision-making process</span>                                                                              <span style=\"color: #008080; text-decoration-color: #008080\">│</span>\n",
              "<span style=\"color: #008080; text-decoration-color: #008080\">│</span>  <span style=\"color: #0000ff; text-decoration-color: #0000ff\">  • Task execution flow and timing</span>                                                                             <span style=\"color: #008080; text-decoration-color: #008080\">│</span>\n",
              "<span style=\"color: #008080; text-decoration-color: #008080\">│</span>  <span style=\"color: #0000ff; text-decoration-color: #0000ff\">  • Tool usage details</span>                                                                                         <span style=\"color: #008080; text-decoration-color: #008080\">│</span>\n",
              "<span style=\"color: #008080; text-decoration-color: #008080\">│</span>                                                                                                                 <span style=\"color: #008080; text-decoration-color: #008080\">│</span>\n",
              "<span style=\"color: #008080; text-decoration-color: #008080\">╰─────────────────────────────────────────────────────────────────────────────────────────────────────────────────╯</span>\n",
              "</pre>\n"
            ]
          },
          "metadata": {}
        },
        {
          "name": "stdout",
          "output_type": "stream",
          "text": [
            "Would you like to view your execution traces? [y/N] (20s timeout): - Movie Name: Idli Kadai, Theater: ABC Cinemas, Address: 123 Main St, Chennai\n",
            "- Movie Name: Kantara: A Legend Chapter-1, Theater: XYZ Theatres, Address: 456 High St, Chennai\n",
            "- Movie Name: They Call Him OG, Theater: PQR Multiplex, Address: 789 Park Ave, Chennai\n",
            "- Movie Name: Kiss, Theater: STU Cinema, Address: 321 River Rd, Chennai\n",
            "- Movie Name: Shakthi Thirumagan, Theater: MNO Theaters, Address: 654 Elm St, Chennai\n",
            "- Movie Name: Tron: Ares, Theater: JKL Theatres, Address: 987 Birch St, Chennai\n",
            "- Movie Name: Lokah Chapter 1: Chandra, Theater: GHI Cinemas, Address: 135 Maple St, Chennai\n",
            "- Movie Name: Marutham, Theater: DEF Theatres, Address: 246 Pine St, Chennai\n",
            "N\n"
          ]
        }
      ]
    }
  ]
}