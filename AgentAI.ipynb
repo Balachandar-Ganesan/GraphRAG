{
  "nbformat": 4,
  "nbformat_minor": 0,
  "metadata": {
    "colab": {
      "provenance": [],
      "authorship_tag": "ABX9TyOu7uE62mCYY/gplMXjBFm2",
      "include_colab_link": true
    },
    "kernelspec": {
      "name": "python3",
      "display_name": "Python 3"
    },
    "language_info": {
      "name": "python"
    }
  },
  "cells": [
    {
      "cell_type": "markdown",
      "metadata": {
        "id": "view-in-github",
        "colab_type": "text"
      },
      "source": [
        "<a href=\"https://colab.research.google.com/github/Balachandar-Ganesan/GraphRAG/blob/main/AgentAI.ipynb\" target=\"_parent\"><img src=\"https://colab.research.google.com/assets/colab-badge.svg\" alt=\"Open In Colab\"/></a>"
      ]
    },
    {
      "cell_type": "code",
      "execution_count": null,
      "metadata": {
        "id": "2vjD5e2z3ryO"
      },
      "outputs": [],
      "source": [
        "!pip install crewAI"
      ]
    },
    {
      "cell_type": "code",
      "source": [
        "!pip install langchain_openai"
      ],
      "metadata": {
        "id": "_a7E9WFzKpuV"
      },
      "execution_count": null,
      "outputs": []
    },
    {
      "cell_type": "code",
      "source": [
        "from google.colab import userdata\n",
        "import os\n",
        "openai_api_key = userdata.get('OPENAI_API_KEY')\n",
        "os.environ[\"OPENAI_API_KEY\"] = openai_api_key\n",
        "    # Then set it for the OpenAI library\n",
        "import openai\n",
        "#openai.api_key = openai_api_key\n",
        "client = openai.OpenAI(api_key=openai_api_key)"
      ],
      "metadata": {
        "id": "_UyApWt24_tH"
      },
      "execution_count": 57,
      "outputs": []
    },
    {
      "cell_type": "code",
      "source": [
        "from crewai import Agent\n",
        "\n",
        "# Define a basic agent\n",
        "general_agent = Agent(\n",
        "    role='Movie Agent',\n",
        "    goal='Find Theaters where specific languge movies are listed',\n",
        "    backstory='Theaters have multiple movies made in different languages. Users usually search for a movie made in a specific language'\n",
        ")"
      ],
      "metadata": {
        "id": "4kvxzjUn38Q9"
      },
      "execution_count": 68,
      "outputs": []
    },
    {
      "cell_type": "code",
      "source": [
        "from crewai import Task\n",
        "\n",
        "# Define a task for the agent\n",
        "planning_task = Task(\n",
        "    description='Search theaters near Cognizant Siruseri office where Telugu movie is screened.',\n",
        "    expected_output='List of Theaters with address and the name of movie with short description and rating.',\n",
        "    agent=general_agent\n",
        ")"
      ],
      "metadata": {
        "id": "5nY4rcC-4DVP"
      },
      "execution_count": 72,
      "outputs": []
    },
    {
      "cell_type": "code",
      "source": [
        "from crewai import Crew, Process\n",
        "from langchain_openai import ChatOpenAI\n",
        "# Assemble the crew\n",
        "crew = Crew(\n",
        "    agents=[general_agent],\n",
        "    tasks=[planning_task],\n",
        "    process=Process.sequential,\n",
        "    verbose=True\n",
        ")\n",
        "llm = ChatOpenAI(model=\"gpt-4-turbo-preview\")\n"
      ],
      "metadata": {
        "id": "RUykIWF_4lOf"
      },
      "execution_count": 73,
      "outputs": []
    },
    {
      "cell_type": "code",
      "source": [
        "result = crew.kickoff()\n",
        "\n",
        "# Display the final output\n",
        "print(result)"
      ],
      "metadata": {
        "id": "YZM1r-n54olO"
      },
      "execution_count": null,
      "outputs": []
    }
  ]
}