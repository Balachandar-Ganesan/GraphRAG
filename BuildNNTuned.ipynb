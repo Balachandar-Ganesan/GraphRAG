{
  "nbformat": 4,
  "nbformat_minor": 0,
  "metadata": {
    "colab": {
      "provenance": [],
      "authorship_tag": "ABX9TyN3j9lQS5dioqY9g9kMaYBF",
      "include_colab_link": true
    },
    "kernelspec": {
      "name": "python3",
      "display_name": "Python 3"
    },
    "language_info": {
      "name": "python"
    }
  },
  "cells": [
    {
      "cell_type": "markdown",
      "metadata": {
        "id": "view-in-github",
        "colab_type": "text"
      },
      "source": [
        "<a href=\"https://colab.research.google.com/github/Balachandar-Ganesan/GraphRAG/blob/main/BuildNNTuned.ipynb\" target=\"_parent\"><img src=\"https://colab.research.google.com/assets/colab-badge.svg\" alt=\"Open In Colab\"/></a>"
      ]
    },
    {
      "cell_type": "code",
      "execution_count": 1,
      "metadata": {
        "id": "E0JVozJMrGXT"
      },
      "outputs": [],
      "source": [
        "import string\n",
        "\n",
        "def count_letters(name):\n",
        "    \"\"\"\n",
        "    Generates a 27-element list for a given name.\n",
        "\n",
        "    The first 26 elements contain the count of each letter of the alphabet.\n",
        "    The 27th element is 1 if the name ends with 'i' or 'a', otherwise 0.\n",
        "\n",
        "    Args:\n",
        "        name (str): The input name.\n",
        "\n",
        "    Returns:\n",
        "        list: A list of 27 integers.\n",
        "    \"\"\"\n",
        "    # Initialize the list with 27 zeros\n",
        "    output_list = [0] * 27\n",
        "\n",
        "    # Normalize the name to lowercase for case-insensitive counting\n",
        "    normalized_name = name.lower()\n",
        "\n",
        "    # Count the frequency of each letter (a-z) for the first 26 elements\n",
        "    for char in normalized_name:\n",
        "        if 'a' <= char <= 'z':\n",
        "            # Calculate the position in the list (0 for 'a', 1 for 'b', etc.)\n",
        "            position = ord(char) - ord('a')\n",
        "            output_list[position] += 1\n",
        "\n",
        "    # Set the 27th element based on the last letter\n",
        "    # Use [-1] to get the last character of the string\n",
        "    if normalized_name:\n",
        "        last_letter = normalized_name[-1]\n",
        "        if last_letter in ('i', 'a'):\n",
        "            output_list[26] = 1\n",
        "        else:\n",
        "            output_list[26] = 0\n",
        "    return output_list"
      ]
    },
    {
      "cell_type": "code",
      "source": [
        "def nameEmbedding(name,intGender):\n",
        "  letter_counts = count_letters(name)\n",
        "  letter_counts.append(intGender)\n",
        "  #print(letter_counts\n",
        "  return (letter_counts)\n",
        "\n"
      ],
      "metadata": {
        "id": "zIn75RGlr5fP"
      },
      "execution_count": 2,
      "outputs": []
    },
    {
      "cell_type": "code",
      "source": [
        "!pip install Faker"
      ],
      "metadata": {
        "colab": {
          "base_uri": "https://localhost:8080/"
        },
        "id": "fn2ajSRVsjV6",
        "outputId": "b2018a60-a12c-49a2-f20a-b6d69a51f1ae"
      },
      "execution_count": 3,
      "outputs": [
        {
          "output_type": "stream",
          "name": "stdout",
          "text": [
            "Collecting Faker\n",
            "  Downloading faker-37.8.0-py3-none-any.whl.metadata (15 kB)\n",
            "Requirement already satisfied: tzdata in /usr/local/lib/python3.12/dist-packages (from Faker) (2025.2)\n",
            "Downloading faker-37.8.0-py3-none-any.whl (2.0 MB)\n",
            "\u001b[2K   \u001b[90m━━━━━━━━━━━━━━━━━━━━━━━━━━━━━━━━━━━━━━━━\u001b[0m \u001b[32m2.0/2.0 MB\u001b[0m \u001b[31m10.6 MB/s\u001b[0m eta \u001b[36m0:00:00\u001b[0m\n",
            "\u001b[?25hInstalling collected packages: Faker\n",
            "Successfully installed Faker-37.8.0\n"
          ]
        }
      ]
    },
    {
      "cell_type": "code",
      "source": [
        "from faker import Faker\n",
        "import pandas as pd\n",
        "\n",
        "    # Initialize Faker with the Indian English locale (en_IN)\n",
        "fake = Faker('en_IN')\n",
        "\n",
        "\n",
        "\n",
        "lstnameEmbedding=[]\n",
        "\n",
        "    # Generate multiple Indian male names\n",
        "\n",
        "for _ in range(800):\n",
        "        lstnameEmbedding.append(nameEmbedding(fake.first_name_male(),0.1))\n",
        "#lstnameEmbedding.append(nameEmbedding('Kamlesh',0.9))\n",
        "\n",
        "\n",
        "\n",
        "    # Generate multiple Indian female names\n",
        "\n",
        "for _ in range(800):\n",
        "        lstnameEmbedding.append(nameEmbedding(fake.first_name_female(),0.9))\n",
        "#lstnameEmbedding.append(nameEmbedding('Sangeetha',0.1))\n",
        "#lstnameEmbedding.append(nameEmbedding('Mounika',0.1))\n",
        "df = pd.DataFrame(lstnameEmbedding)\n",
        "df.to_csv('nameEmbedding.csv', index=False)"
      ],
      "metadata": {
        "id": "jzlQol1ztBr6"
      },
      "execution_count": 6,
      "outputs": []
    },
    {
      "cell_type": "code",
      "source": [
        "import numpy as np\n",
        "import torch\n",
        "import torch.nn as nn\n",
        "import torch.optim as optim\n",
        "\n",
        "# load the dataset, split into input (X) and output (y) variables\n",
        "dataset = np.genfromtxt('/content/nameEmbedding.csv', delimiter=',',skip_header=1)\n",
        "X = dataset[:,0:27]\n",
        "y = dataset[:,27]\n",
        "\n",
        "X = torch.tensor(X, dtype=torch.float32)\n",
        "y = torch.tensor(y, dtype=torch.float32).reshape(-1, 1)\n",
        "\n",
        "# define the model\n",
        "model = nn.Sequential(\n",
        "    nn.Linear(27, 12),\n",
        "    nn.ReLU(),\n",
        "    nn.Linear(12, 8),\n",
        "    nn.ReLU(),\n",
        "    nn.Linear(8, 1),\n",
        "    nn.Sigmoid()\n",
        ")\n",
        "print(model)\n",
        "\n",
        "# train the model\n",
        "loss_fn   = nn.BCELoss()  # binary cross entropy\n",
        "optimizer = optim.Adam(model.parameters(), lr=0.0001)\n",
        "\n",
        "n_epochs = 100\n",
        "batch_size = 10\n",
        "\n",
        "for epoch in range(n_epochs):\n",
        "    for i in range(0, len(X), batch_size):\n",
        "        Xbatch = X[i:i+batch_size]\n",
        "        y_pred = model(Xbatch)\n",
        "        ybatch = y[i:i+batch_size]\n",
        "        loss = loss_fn(y_pred, ybatch)\n",
        "        optimizer.zero_grad()\n",
        "        loss.backward()\n",
        "        optimizer.step()\n",
        "    #print(f'Finished epoch {epoch}, latest loss {loss}')\n",
        "print(f'Finished epoch {epoch}, latest loss {loss}')\n",
        "# compute accuracy (no_grad is optional)\n"
      ],
      "metadata": {
        "colab": {
          "base_uri": "https://localhost:8080/"
        },
        "id": "2MksPTWtXDaT",
        "outputId": "c870353e-3e41-46e8-ff5b-260ca83f5252"
      },
      "execution_count": 7,
      "outputs": [
        {
          "output_type": "stream",
          "name": "stdout",
          "text": [
            "Sequential(\n",
            "  (0): Linear(in_features=27, out_features=12, bias=True)\n",
            "  (1): ReLU()\n",
            "  (2): Linear(in_features=12, out_features=8, bias=True)\n",
            "  (3): ReLU()\n",
            "  (4): Linear(in_features=8, out_features=1, bias=True)\n",
            "  (5): Sigmoid()\n",
            ")\n",
            "Finished epoch 99, latest loss 0.4988199770450592\n"
          ]
        }
      ]
    },
    {
      "cell_type": "code",
      "source": [
        "def predictGenderFromName(strName):\n",
        "  y_pred=model(torch.tensor(count_letters(strName),dtype=torch.float32))\n",
        "  print(strName,':',y_pred)\n",
        "  if y_pred >0.5:\n",
        "      print('Female')\n",
        "  else:\n",
        "      print('Male')\n"
      ],
      "metadata": {
        "id": "nFwK5pS9fNoo"
      },
      "execution_count": 14,
      "outputs": []
    },
    {
      "cell_type": "code",
      "source": [
        "predictGenderFromName('Kamlesh')\n",
        "predictGenderFromName('Vidhya Prabha')\n",
        "predictGenderFromName('Paramita')\n",
        "predictGenderFromName('Mounika')\n",
        "predictGenderFromName('Ashwin Bharath')\n",
        "predictGenderFromName('Balachandar')\n",
        "predictGenderFromName('Sunil Kumar')"
      ],
      "metadata": {
        "colab": {
          "base_uri": "https://localhost:8080/"
        },
        "id": "PAecWGish8Gy",
        "outputId": "2efdec5e-f100-433c-89ed-7508f3afbaf7"
      },
      "execution_count": 15,
      "outputs": [
        {
          "output_type": "stream",
          "name": "stdout",
          "text": [
            "Kamlesh : tensor([0.1888], grad_fn=<SigmoidBackward0>)\n",
            "Male\n",
            "Vidhya Prabha : tensor([0.6201], grad_fn=<SigmoidBackward0>)\n",
            "Female\n",
            "Paramita : tensor([0.6459], grad_fn=<SigmoidBackward0>)\n",
            "Female\n",
            "Mounika : tensor([0.6459], grad_fn=<SigmoidBackward0>)\n",
            "Female\n",
            "Ashwin Bharath : tensor([0.0254], grad_fn=<SigmoidBackward0>)\n",
            "Male\n",
            "Balachandar : tensor([0.0461], grad_fn=<SigmoidBackward0>)\n",
            "Male\n",
            "Sunil Kumar : tensor([0.1084], grad_fn=<SigmoidBackward0>)\n",
            "Male\n"
          ]
        }
      ]
    },
    {
      "cell_type": "code",
      "source": [
        "\n",
        "#wrong predictions increase epoch to 1000 train the model again and verify\n",
        "print('if Wrong , Increase epoch to 1000 and see results')\n",
        "predictGenderFromName('Shreyas')\n",
        "predictGenderFromName('Shreya')\n",
        "predictGenderFromName('Alex Jacob')\n",
        "predictGenderFromName('ArulMozhi')\n",
        "predictGenderFromName('Sangeetha')\n",
        "predictGenderFromName('Supriya')\n"
      ],
      "metadata": {
        "colab": {
          "base_uri": "https://localhost:8080/"
        },
        "id": "0saurx4MjAPf",
        "outputId": "2dac311a-b9cd-40f3-cbcd-fa860f39b732"
      },
      "execution_count": 16,
      "outputs": [
        {
          "output_type": "stream",
          "name": "stdout",
          "text": [
            "if Wrong , Increase epoch to 1000 and see results\n",
            "Shreyas : tensor([0.0648], grad_fn=<SigmoidBackward0>)\n",
            "Male\n",
            "Shreya : tensor([0.6459], grad_fn=<SigmoidBackward0>)\n",
            "Female\n",
            "Alex Jacob : tensor([0.1563], grad_fn=<SigmoidBackward0>)\n",
            "Male\n",
            "ArulMozhi : tensor([0.6459], grad_fn=<SigmoidBackward0>)\n",
            "Female\n",
            "Sangeetha : tensor([0.5943], grad_fn=<SigmoidBackward0>)\n",
            "Female\n",
            "Supriya : tensor([0.6459], grad_fn=<SigmoidBackward0>)\n",
            "Female\n"
          ]
        }
      ]
    }
  ]
}